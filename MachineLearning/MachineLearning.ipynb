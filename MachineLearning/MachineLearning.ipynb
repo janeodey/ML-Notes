{
 "cells": [
  {
   "cell_type": "code",
   "execution_count": 1,
   "metadata": {},
   "outputs": [],
   "source": [
    "# Machine Learning is making the computer learn from studying data and statistics\n",
    "# Machine Learning is a step into the direction of artificial intelligence (AI).\n",
    "# Machine Learning is a program that analyses data and learns to predict the outcome.\n",
    "# Data set is a collection of data. It can be anything, from an array to a complete database\n",
    "\n",
    "\n",
    "\n"
   ]
  },
  {
   "cell_type": "markdown",
   "metadata": {},
   "source": [
    "# DATA TYPES IN MACHINE LEARNING"
   ]
  },
  {
   "cell_type": "code",
   "execution_count": null,
   "metadata": {},
   "outputs": [],
   "source": [
    "# To analyze data, it is important to know what type of data we are dealing with.\n",
    "\n",
    "# We can split the data types into three main categories:\n",
    "# Numerical\n",
    "# Categorical\n",
    "# Ordinal\n",
    "\n",
    "# Numerical data are numbers, and can be split into two numerical categories:\n",
    "# Discrete Data\n",
    "# - numbers that are limited to integers. Example: The number of cars passing by.\n",
    "# Continuous Data\n",
    "# - numbers that are of infinite value. Example: The price of an item, or the size of an item\n",
    "\n",
    "# Categorical data are values that cannot be measured up against each other. Example: a color value, or any yes/no values.\n",
    "\n",
    "# Ordinal data are like categorical data, but can be measured up against each other. Example: school grades where A is better than B and so on.\n",
    "\n",
    "# By knowing the data type of your data source, you will be able to know what technique to use when analyzing them.\n",
    "\n",
    "\n",
    "# Mean, Median, and Mode\n",
    "# What can we learn from looking at a group of numbers?\n",
    "\n",
    "# In Machine Learning (and in mathematics) there are often three values that interests us:\n",
    "# Mean - The average value\n",
    "# Median - The mid point value\n",
    "# Mode - The most common value\n",
    "\n",
    "\n",
    "\n",
    "\n",
    "\n",
    "\n",
    "\n",
    "\n",
    "\n",
    "\n",
    "\n",
    "\n",
    "\n",
    "\n",
    "\n",
    "\n",
    "\n",
    "\n"
   ]
  },
  {
   "cell_type": "code",
   "execution_count": 8,
   "metadata": {},
   "outputs": [],
   "source": [
    "import numpy as np\n",
    "from scipy import stats"
   ]
  },
  {
   "cell_type": "code",
   "execution_count": 11,
   "metadata": {},
   "outputs": [
    {
     "name": "stdout",
     "output_type": "stream",
     "text": [
      "89.76923076923077\n",
      "ModeResult(mode=array([86]), count=array([3]))\n",
      "87.0\n"
     ]
    }
   ],
   "source": [
    "speed = [99,86,87,88,111,86,103,87,94,78,77,85,86]\n",
    "\n",
    "x = np.mean(speed)\n",
    "y = stats.mode(speed)\n",
    "z = np.median(speed)\n",
    "\n",
    "print(x)\n",
    "print(y)\n",
    "print(z)"
   ]
  },
  {
   "cell_type": "markdown",
   "metadata": {},
   "source": [
    "# Machine Learning - Standard Deviation"
   ]
  },
  {
   "cell_type": "code",
   "execution_count": null,
   "metadata": {},
   "outputs": [],
   "source": [
    "# Standard deviation is a number that describes how spread out the values are.\n",
    "# A low standard deviation means that most of the numbers are close to the mean (average) value.\n",
    "# A high standard deviation means that the values are spread out over a wider range.\n",
    "\n"
   ]
  },
  {
   "cell_type": "code",
   "execution_count": 12,
   "metadata": {},
   "outputs": [
    {
     "name": "stdout",
     "output_type": "stream",
     "text": [
      "0.9035079029052513\n"
     ]
    }
   ],
   "source": [
    "speed = [86,87,88,86,87,85,86]\n",
    "print(np.std(speed))"
   ]
  },
  {
   "cell_type": "markdown",
   "metadata": {},
   "source": [
    "# Variance"
   ]
  },
  {
   "cell_type": "code",
   "execution_count": 13,
   "metadata": {},
   "outputs": [],
   "source": [
    "# Variance is another number that indicates how spread out the values are.\n",
    "# In fact, if you take the square root of the variance, you get the standard deviation!\n",
    "# Or the other way around, if you multiply the standard deviation by itself, you get the variance!\n",
    "\n",
    "# To calculate the variance, you do as follows:\n",
    "# 1. Find the mean:\n",
    "\n",
    "# (32+111+138+28+59+77+97) / 7 = 77.4\n",
    "\n",
    "# 2. For each value: find the difference from the mean:\n",
    "\n",
    "#  32 - 77.4 = -45.4\n",
    "# 111 - 77.4 =  33.6\n",
    "# 138 - 77.4 =  60.6\n",
    "#  28 - 77.4 = -49.4\n",
    "#  59 - 77.4 = -18.4\n",
    "#  77 - 77.4 = - 0.4\n",
    "#  97 - 77.4 =  19.6\n",
    "\n",
    "# 3. For each difference: find the square value:\n",
    "\n",
    "# (-45.4)2 = 2061.16\n",
    "#  (33.6)2 = 1128.96\n",
    "#  (60.6)2 = 3672.36\n",
    "# (-49.4)2 = 2440.36\n",
    "# (-18.4)2 =  338.56\n",
    "# (- 0.4)2 =    0.16\n",
    "#  (19.6)2 =  384.16\n",
    "# 4. The variance is the average number of these squared differences:\n",
    "\n",
    "# (2061.16+1128.96+3672.36+2440.36+338.56+0.16+384.16) / 7 = 1432.2\n",
    "\n",
    "# OR\n",
    "# import numpy\n",
    "\n",
    "# speed = [32,111,138,28,59,77,97]\n",
    "# x = numpy.var(speed)\n",
    "# print(x)\n",
    "\n",
    "\n",
    "# Standard Deviation\n",
    "# As we have learned, the formula to find the standard deviation is the square root of the variance:\n",
    "\n",
    "# √1432.25 = 37.85\n",
    "\n",
    "# OR\n",
    "# import numpy as np\n",
    "# speed = [32,111,138,28,59,77,97]\n",
    "# x = np.std(speed)\n",
    "# print(x)\n",
    "\n",
    "\n",
    "# Symbols\n",
    "# Standard Deviation is often represented by the symbol Sigma: σ\n",
    "\n",
    "# Variance is often represented by the symbol Sigma Square: σ2\n",
    "\n",
    "\n",
    "\n",
    "\n",
    "\n",
    "\n",
    "\n",
    "\n",
    "\n",
    "\n",
    "\n",
    "\n",
    "\n",
    "\n",
    "\n",
    "\n",
    "\n",
    "\n",
    "\n",
    "\n",
    "\n"
   ]
  },
  {
   "cell_type": "markdown",
   "metadata": {},
   "source": [
    "# What are Percentiles?"
   ]
  },
  {
   "cell_type": "code",
   "execution_count": null,
   "metadata": {},
   "outputs": [],
   "source": [
    "# Percentiles are used in statistics to give you a number that describes the value that a given percent of the values are lower than.\n",
    "\n",
    "# Example: Let's say we have an array of the ages of all the people that lives in a street.\n",
    "\n",
    "# ages = [5,31,43,48,50,41,7,11,15,39,80,82,32,2,8,6,25,36,27,61,31]\n",
    "\n",
    "# What is the 75. percentile? The answer is 43, meaning that 75% of the people are 43 or younger.\n",
    "\n",
    "# The NumPy module has a method for finding the specified percentile:\n",
    "    \n",
    "    "
   ]
  },
  {
   "cell_type": "code",
   "execution_count": 15,
   "metadata": {},
   "outputs": [
    {
     "name": "stdout",
     "output_type": "stream",
     "text": [
      "43.0\n",
      "61.0\n"
     ]
    }
   ],
   "source": [
    "import numpy as np\n",
    "\n",
    "ages = [5,31,43,48,50,41,7,11,15,39,80,82,32,2,8,6,25,36,27,61,31]\n",
    "\n",
    "print(np.percentile(ages,75))\n",
    "print(np.percentile(ages,90))"
   ]
  },
  {
   "cell_type": "markdown",
   "metadata": {},
   "source": [
    "# Data Distribution"
   ]
  },
  {
   "cell_type": "code",
   "execution_count": 22,
   "metadata": {},
   "outputs": [],
   "source": [
    "import numpy as np\n",
    "from numpy import random\n",
    "import matplotlib.pyplot as plt\n",
    "import seaborn as sns\n"
   ]
  },
  {
   "cell_type": "code",
   "execution_count": 26,
   "metadata": {},
   "outputs": [
    {
     "data": {
      "image/png": "[encoded data removed]",
      "text/plain": [
       "<Figure size 432x288 with 1 Axes>"
      ]
     },
     "metadata": {
      "needs_background": "light"
     },
     "output_type": "display_data"
    }
   ],
   "source": [
    "\n",
    "x= np.random.uniform(0.0,0.5,100000)\n",
    "# print(x)\n",
    "sns.distplot(x,100)\n",
    "plt.show()"
   ]
  },
  {
   "cell_type": "markdown",
   "metadata": {},
   "source": [
    "# Normal Data Distribution"
   ]
  },
  {
   "cell_type": "code",
   "execution_count": 29,
   "metadata": {},
   "outputs": [
    {
     "name": "stdout",
     "output_type": "stream",
     "text": [
      "Result\n"
     ]
    },
    {
     "data": {
      "image/png": "[encoded data removed]",
      "text/plain": [
       "<Figure size 432x288 with 1 Axes>"
      ]
     },
     "metadata": {
      "needs_background": "light"
     },
     "output_type": "display_data"
    }
   ],
   "source": [
    "import matplotlib.pyplot as plt\n",
    "\n",
    "x = np.random.normal(5.0, 1.0, 100000)\n",
    "print(\"Result\")\n",
    "plt.hist(x, 100)\n",
    "plt.show()"
   ]
  },
  {
   "cell_type": "code",
   "execution_count": null,
   "metadata": {},
   "outputs": [],
   "source": [
    "# Histogram Explained\n",
    "# We use the array from the numpy.random.normal() method, with 100000 values,  to draw a histogram with 100 bars.\n",
    "\n",
    "# We specify that the mean value is 5.0, and the standard deviation is 1.0.\n",
    "\n",
    "# Meaning that the values should be concentrated around 5.0, and rarely further away than 1.0 from the mean.\n",
    "\n",
    "# And as you can see from the histogram, most values are between 4.0 and 6.0, with a top at approximately 5.0.\n",
    "\n"
   ]
  },
  {
   "cell_type": "markdown",
   "metadata": {},
   "source": [
    "# Scatter Plot"
   ]
  },
  {
   "cell_type": "code",
   "execution_count": null,
   "metadata": {},
   "outputs": [],
   "source": [
    "# A scatter plot is a diagram where each value in the data set is represented by a dot.\n",
    "# The Matplotlib module has a method for drawing scatter plots, it needs two arrays of the same length,\n",
    "# one for the values of the x-axis, and one for the values of the y-axis:\n",
    "\n",
    "\n"
   ]
  },
  {
   "cell_type": "code",
   "execution_count": 32,
   "metadata": {},
   "outputs": [
    {
     "data": {
      "image/png": "[encoded data removed]",
      "text/plain": [
       "<Figure size 432x288 with 1 Axes>"
      ]
     },
     "metadata": {
      "needs_background": "light"
     },
     "output_type": "display_data"
    }
   ],
   "source": [
    "import matplotlib.pyplot as plt\n",
    "\n",
    "x = [5,7,8,7,2,17,2,9,4,11,12,9,6]\n",
    "y = [99,86,87,88,111,86,103,87,94,78,77,85,86]\n",
    "\n",
    "plt.scatter(x,y)\n",
    "plt.show()\n",
    "\n",
    "# Scatter Plot Explained\n",
    "# The x-axis represents ages, and the y-axis represents speeds.\n",
    "# What we can read from the diagram is that the two fastest cars were both 2 years old, and the slowest car was 12 years old.\n",
    "\n"
   ]
  },
  {
   "cell_type": "code",
   "execution_count": 33,
   "metadata": {},
   "outputs": [],
   "source": [
    "import numpy as np\n",
    "import matplotlib.pyplot as plt"
   ]
  },
  {
   "cell_type": "code",
   "execution_count": 35,
   "metadata": {},
   "outputs": [
    {
     "data": {
      "image/png": "[encoded data removed]",
      "text/plain": [
       "<Figure size 432x288 with 1 Axes>"
      ]
     },
     "metadata": {
      "needs_background": "light"
     },
     "output_type": "display_data"
    }
   ],
   "source": [
    "# np.random.normal(mean, std, rand numbs)\n",
    "\n",
    "x = np.random.normal(5.0, 1.0, 1000)\n",
    "y = np.random.normal(10.0, 2.0, 1000)\n",
    "\n",
    "plt.scatter(x,y)\n",
    "plt.show()\n",
    "\n",
    "# Scatter Plot Explained\n",
    "# We can see that the dots are concentrated around the value 5 on the x-axis, and 10 on the y-axis.\n",
    "\n",
    "# We can also see that the spread is wider on the y-axis than on the x-axis.\n",
    "\n"
   ]
  },
  {
   "cell_type": "markdown",
   "metadata": {},
   "source": [
    "# LINEAR REGRESSION"
   ]
  },
  {
   "cell_type": "code",
   "execution_count": 36,
   "metadata": {},
   "outputs": [],
   "source": [
    "# The term regression is used when you try to find the relationship between variables.\n",
    "# In ML and statistical modeling, that relationship is used to predict the outcome of future events\n",
    "\n"
   ]
  },
  {
   "cell_type": "code",
   "execution_count": null,
   "metadata": {},
   "outputs": [],
   "source": [
    "# Linear regression uses the relationship between the data-points to draw a straight line through all them.\n",
    "# This line can be used to predict future values.\n",
    "# In ML, predicting the future is really important\n",
    "\n",
    "\n"
   ]
  },
  {
   "cell_type": "code",
   "execution_count": null,
   "metadata": {},
   "outputs": [],
   "source": []
  },
  {
   "cell_type": "code",
   "execution_count": null,
   "metadata": {},
   "outputs": [],
   "source": []
  },
  {
   "cell_type": "code",
   "execution_count": null,
   "metadata": {},
   "outputs": [],
   "source": []
  },
  {
   "cell_type": "code",
   "execution_count": null,
   "metadata": {},
   "outputs": [],
   "source": []
  },
  {
   "cell_type": "code",
   "execution_count": null,
   "metadata": {},
   "outputs": [],
   "source": []
  },
  {
   "cell_type": "code",
   "execution_count": null,
   "metadata": {},
   "outputs": [],
   "source": []
  },
  {
   "cell_type": "code",
   "execution_count": null,
   "metadata": {},
   "outputs": [],
   "source": []
  }
 ],
 "metadata": {
  "kernelspec": {
   "display_name": "Python 3",
   "language": "python",
   "name": "python3"
  },
  "language_info": {
   "codemirror_mode": {
    "name": "ipython",
    "version": 3
   },
   "file_extension": ".py",
   "mimetype": "text/x-python",
   "name": "python",
   "nbconvert_exporter": "python",
   "pygments_lexer": "ipython3",
   "version": "3.8.3"
  }
 },
 "nbformat": 4,
 "nbformat_minor": 4
}
