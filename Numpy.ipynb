{
 "cells": [
  {
   "cell_type": "code",
   "execution_count": 1,
   "metadata": {},
   "outputs": [],
   "source": [
    "# Numpy is a python library used for working with arrays. It has function for working with domain of linear algebra, fourier transform and matrices.\n",
    "# The array object in numpy is called ndarray. We can create the numpy array object by using the \"array()\"\" object"
   ]
  },
  {
   "cell_type": "code",
   "execution_count": 2,
   "metadata": {},
   "outputs": [],
   "source": [
    "import numpy as np\n",
    "print(np.__version__) "
   ]
  },
  {
   "cell_type": "code",
   "execution_count": 9,
   "metadata": {},
   "outputs": [
    {
     "name": "stdout",
     "output_type": "stream",
     "text": [
      "[1 2 3 4 5]\n",
      "<class 'numpy.ndarray'>\n"
     ]
    }
   ],
   "source": [
    "arr = np.array([1,2,3,4,5])\n",
    "print(arr)\n",
    "print(type(arr))\n"
   ]
  },
  {
   "cell_type": "markdown",
   "metadata": {},
   "source": [
    "# Dimensions in array"
   ]
  },
  {
   "cell_type": "code",
   "execution_count": 10,
   "metadata": {},
   "outputs": [],
   "source": [
    "# a dimension in array is one level of array depth"
   ]
  },
  {
   "cell_type": "code",
   "execution_count": 17,
   "metadata": {},
   "outputs": [
    {
     "name": "stdout",
     "output_type": "stream",
     "text": [
      "0-D or scalar:  45\n",
      "1-D or Unidimensional:  [1 2 3 4]\n",
      "2-D: [[1 2 3]\n",
      " [4 5 6]]\n",
      "3-D: [[[1 2 3]\n",
      "  [4 5 6]]]\n"
     ]
    }
   ],
   "source": [
    "# 0-D array\n",
    "arr = np.array(45)\n",
    "print(\"0-D or scalar: \", arr)\n",
    "\n",
    "#1-D array\n",
    "arr1 = np.array([1,2,3,4])\n",
    "print(\"1-D or Unidimensional: \", arr1)\n",
    "\n",
    "# 2-D array. often used to represent matrices or second order tensors\n",
    "arr2 = np.array([[1,2,3],[4,5,6]])\n",
    "print(\"2-D:\", arr2)\n",
    "\n",
    "# 3-D array. There are often used to represent a 3rd order tensors\n",
    "arr3 = np.array([[[1,2,3],[4,5,6]]])\n",
    "print(\"3-D:\", arr3)"
   ]
  },
  {
   "cell_type": "markdown",
   "metadata": {},
   "source": [
    "# Check Number of Dimension"
   ]
  },
  {
   "cell_type": "code",
   "execution_count": 19,
   "metadata": {},
   "outputs": [
    {
     "name": "stdout",
     "output_type": "stream",
     "text": [
      "0\n",
      "1\n"
     ]
    }
   ],
   "source": [
    "# the \"ndim\" is used to check the number of dimension of an array\n",
    "print(arr.ndim)\n",
    "print(arr1.ndim)\n",
    "print(arr2.ndim)\n",
    "print(arr3.ndim)"
   ]
  },
  {
   "cell_type": "markdown",
   "metadata": {},
   "source": [
    "# Higher Dimensional Array\n"
   ]
  },
  {
   "cell_type": "code",
   "execution_count": 22,
   "metadata": {},
   "outputs": [
    {
     "name": "stdout",
     "output_type": "stream",
     "text": [
      "[[[[[1 2 3 4 5]]]]]\n",
      "The number of dimension is: 5\n"
     ]
    }
   ],
   "source": [
    "# when an array is created, you can specify the number of dimension by using \"ndmin\"\n",
    "# The below line of code will give a 5-D array\n",
    "\n",
    "arr1 = np.array([1,2,3,4,5], ndmin=5)\n",
    "print(arr1)\n",
    "print(\"The number of dimension is:\",arr1.ndim)"
   ]
  },
  {
   "cell_type": "markdown",
   "metadata": {},
   "source": [
    "# Array Indexing"
   ]
  },
  {
   "cell_type": "code",
   "execution_count": 24,
   "metadata": {},
   "outputs": [
    {
     "name": "stdout",
     "output_type": "stream",
     "text": [
      "6\n"
     ]
    }
   ],
   "source": [
    "# array indexing is thesame with most programming languages. It starts with index 0.\n",
    "\n",
    "arr1 = np.array([1,2,3,4])\n",
    "print(arr1[1] + arr1[3])"
   ]
  },
  {
   "cell_type": "code",
   "execution_count": 32,
   "metadata": {},
   "outputs": [
    {
     "name": "stdout",
     "output_type": "stream",
     "text": [
      "3\n",
      "5\n",
      "8\n"
     ]
    }
   ],
   "source": [
    "# Accessing a 2-d array we use comma separated integers to represent the array and the indexing\n",
    "# The code below will produce 1st index of the first array object\n",
    "\n",
    "arr = np.array([[1,2,3,4],[5,6,7,8]])\n",
    "print(arr[0,2])\n",
    "\n",
    "# Acessing 3-d array. The code below will produce 5\n",
    "arr1 = np.array([[[1, 2, 3], [4, 5, 6]], [[7, 8, 9], [10, 11, 12]]])\n",
    "print(arr1[0, 1, 1])\n",
    "\n",
    "# negative indexing is used to access array from the end\n",
    "arr2 = np.array([[1,2,3,4,5], [6,7,8,9,10]])\n",
    "print(arr2[1, -3])"
   ]
  },
  {
   "cell_type": "markdown",
   "metadata": {},
   "source": [
    "# Array Slicing"
   ]
  },
  {
   "cell_type": "code",
   "execution_count": 41,
   "metadata": {},
   "outputs": [
    {
     "name": "stdout",
     "output_type": "stream",
     "text": [
      "Takes from index 1 excluding index 5: [2 3 4 5]\n",
      "Takes from index 1 excluding index 5, in steps of 2: [2 4]\n",
      "Takes from index 0 excluding index 4: [1 2 3 4]\n",
      "Takes from index 4 to the end: [5 6 7 8]\n"
     ]
    }
   ],
   "source": [
    "# This means taking an array from one given index to another index. [start, end, step]. it using excludes the end value\n",
    "\n",
    "arr = np.array([1,2,3,4,5,6,7,8])\n",
    "print(\"Takes from index 1 excluding index 5:\",arr[1:5])\n",
    "print(\"Takes from index 1 excluding index 5, in steps of 2:\",arr[1:5:2])\n",
    "print(\"Takes from index 0 excluding index 4:\",arr[:4])\n",
    "print(\"Takes from index 4 to the end:\",arr[4:])"
   ]
  },
  {
   "cell_type": "code",
   "execution_count": 44,
   "metadata": {},
   "outputs": [
    {
     "name": "stdout",
     "output_type": "stream",
     "text": [
      "[7 8 9]\n",
      "[3 8]\n"
     ]
    }
   ],
   "source": [
    "# Slicing 2-d\n",
    "\n",
    "arr = np.array([[1, 2, 3, 4, 5], [6, 7, 8, 9, 10]])\n",
    "print(arr[1, 1:4])\n",
    "print(arr[0:2,2])"
   ]
  },
  {
   "cell_type": "code",
   "execution_count": null,
   "metadata": {},
   "outputs": [],
   "source": []
  },
  {
   "cell_type": "code",
   "execution_count": null,
   "metadata": {},
   "outputs": [],
   "source": []
  },
  {
   "cell_type": "code",
   "execution_count": null,
   "metadata": {},
   "outputs": [],
   "source": []
  },
  {
   "cell_type": "code",
   "execution_count": null,
   "metadata": {},
   "outputs": [],
   "source": []
  },
  {
   "cell_type": "code",
   "execution_count": null,
   "metadata": {},
   "outputs": [],
   "source": []
  },
  {
   "cell_type": "code",
   "execution_count": null,
   "metadata": {},
   "outputs": [],
   "source": []
  },
  {
   "cell_type": "code",
   "execution_count": null,
   "metadata": {},
   "outputs": [],
   "source": []
  }
 ],
 "metadata": {
  "kernelspec": {
   "display_name": "Python 3",
   "language": "python",
   "name": "python3"
  },
  "language_info": {
   "codemirror_mode": {
    "name": "ipython",
    "version": 3
   },
   "file_extension": ".py",
   "mimetype": "text/x-python",
   "name": "python",
   "nbconvert_exporter": "python",
   "pygments_lexer": "ipython3",
   "version": "3.8.3"
  }
 },
 "nbformat": 4,
 "nbformat_minor": 4
}
