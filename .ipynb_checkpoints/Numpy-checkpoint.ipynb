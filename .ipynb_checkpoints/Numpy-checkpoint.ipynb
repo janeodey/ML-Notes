{
 "cells": [
  {
   "cell_type": "code",
   "execution_count": 1,
   "metadata": {},
   "outputs": [],
   "source": [
    "# Numpy is a python library used for working with arrays. It has function for working with domain of linear algebra, fourier transform and matrices.\n",
    "# The array object in numpy is called ndarray. We can create the numpy array object by using the \"array()\"\" object"
   ]
  },
  {
   "cell_type": "code",
   "execution_count": 2,
   "metadata": {},
   "outputs": [],
   "source": [
    "import numpy as np\n",
    "print(np.__version__) "
   ]
  },
  {
   "cell_type": "code",
   "execution_count": 9,
   "metadata": {},
   "outputs": [
    {
     "name": "stdout",
     "output_type": "stream",
     "text": [
      "[1 2 3 4 5]\n",
      "<class 'numpy.ndarray'>\n"
     ]
    }
   ],
   "source": [
    "arr = np.array([1,2,3,4,5])\n",
    "print(arr)\n",
    "print(type(arr))\n"
   ]
  },
  {
   "cell_type": "markdown",
   "metadata": {},
   "source": [
    "# Dimensions in array"
   ]
  },
  {
   "cell_type": "code",
   "execution_count": 10,
   "metadata": {},
   "outputs": [],
   "source": [
    "# a dimension in array is one level of array depth"
   ]
  },
  {
   "cell_type": "code",
   "execution_count": 17,
   "metadata": {},
   "outputs": [
    {
     "name": "stdout",
     "output_type": "stream",
     "text": [
      "0-D or scalar:  45\n",
      "1-D or Unidimensional:  [1 2 3 4]\n",
      "2-D: [[1 2 3]\n",
      " [4 5 6]]\n",
      "3-D: [[[1 2 3]\n",
      "  [4 5 6]]]\n"
     ]
    }
   ],
   "source": [
    "# 0-D array\n",
    "arr = np.array(45)\n",
    "print(\"0-D or scalar: \", arr)\n",
    "\n",
    "#1-D array\n",
    "arr1 = np.array([1,2,3,4])\n",
    "print(\"1-D or Unidimensional: \", arr1)\n",
    "\n",
    "# 2-D array. often used to represent matrices or second order tensors\n",
    "arr2 = np.array([[1,2,3],[4,5,6]])\n",
    "print(\"2-D:\", arr2)\n",
    "\n",
    "# 3-D array. There are often used to represent a 3rd order tensors\n",
    "arr3 = np.array([[[1,2,3],[4,5,6]]])\n",
    "print(\"3-D:\", arr3)"
   ]
  },
  {
   "cell_type": "markdown",
   "metadata": {},
   "source": [
    "# Check Number of Dimension"
   ]
  },
  {
   "cell_type": "code",
   "execution_count": 19,
   "metadata": {},
   "outputs": [
    {
     "name": "stdout",
     "output_type": "stream",
     "text": [
      "0\n",
      "1\n"
     ]
    }
   ],
   "source": [
    "# the \"ndim\" is used to check the number of dimension of an array\n",
    "print(arr.ndim)\n",
    "print(arr1.ndim)\n",
    "print(arr2.ndim)\n",
    "print(arr3.ndim)"
   ]
  },
  {
   "cell_type": "markdown",
   "metadata": {},
   "source": [
    "# Higher Dimensional Array\n"
   ]
  },
  {
   "cell_type": "code",
   "execution_count": 22,
   "metadata": {},
   "outputs": [
    {
     "name": "stdout",
     "output_type": "stream",
     "text": [
      "[[[[[1 2 3 4 5]]]]]\n",
      "The number of dimension is: 5\n"
     ]
    }
   ],
   "source": [
    "# when an array is created, you can specify the number of dimension by using \"ndmin\"\n",
    "# The below line of code will give a 5-D array\n",
    "\n",
    "arr1 = np.array([1,2,3,4,5], ndmin=5)\n",
    "print(arr1)\n",
    "print(\"The number of dimension is:\",arr1.ndim)"
   ]
  },
  {
   "cell_type": "markdown",
   "metadata": {},
   "source": [
    "# Array Indexing"
   ]
  },
  {
   "cell_type": "code",
   "execution_count": 24,
   "metadata": {},
   "outputs": [
    {
     "name": "stdout",
     "output_type": "stream",
     "text": [
      "6\n"
     ]
    }
   ],
   "source": [
    "# array indexing is thesame with most programming languages. It starts with index 0.\n",
    "\n",
    "arr1 = np.array([1,2,3,4])\n",
    "print(arr1[1] + arr1[3])"
   ]
  },
  {
   "cell_type": "code",
   "execution_count": 32,
   "metadata": {},
   "outputs": [
    {
     "name": "stdout",
     "output_type": "stream",
     "text": [
      "3\n",
      "5\n",
      "8\n"
     ]
    }
   ],
   "source": [
    "# Accessing a 2-d array we use comma separated integers to represent the array and the indexing\n",
    "# The code below will produce 1st index of the first array object\n",
    "\n",
    "arr = np.array([[1,2,3,4],[5,6,7,8]])\n",
    "print(arr[0,2])\n",
    "\n",
    "# Acessing 3-d array. The code below will produce 5\n",
    "arr1 = np.array([[[1, 2, 3], [4, 5, 6]], [[7, 8, 9], [10, 11, 12]]])\n",
    "print(arr1[0, 1, 1])\n",
    "\n",
    "# negative indexing is used to access array from the end\n",
    "arr2 = np.array([[1,2,3,4,5], [6,7,8,9,10]])\n",
    "print(arr2[1, -3])"
   ]
  },
  {
   "cell_type": "markdown",
   "metadata": {},
   "source": [
    "# Array Slicing"
   ]
  },
  {
   "cell_type": "code",
   "execution_count": 41,
   "metadata": {},
   "outputs": [
    {
     "name": "stdout",
     "output_type": "stream",
     "text": [
      "Takes from index 1 excluding index 5: [2 3 4 5]\n",
      "Takes from index 1 excluding index 5, in steps of 2: [2 4]\n",
      "Takes from index 0 excluding index 4: [1 2 3 4]\n",
      "Takes from index 4 to the end: [5 6 7 8]\n"
     ]
    }
   ],
   "source": [
    "# This means taking an array from one given index to another index. [start, end, step]. it using excludes the end value\n",
    "\n",
    "arr = np.array([1,2,3,4,5,6,7,8])\n",
    "print(\"Takes from index 1 excluding index 5:\",arr[1:5])\n",
    "print(\"Takes from index 1 excluding index 5, in steps of 2:\",arr[1:5:2])\n",
    "print(\"Takes from index 0 excluding index 4:\",arr[:4])\n",
    "print(\"Takes from index 4 to the end:\",arr[4:])"
   ]
  },
  {
   "cell_type": "code",
   "execution_count": 5,
   "metadata": {},
   "outputs": [
    {
     "name": "stdout",
     "output_type": "stream",
     "text": [
      "[7 8 9]\n",
      "This means from both elemens, return index 2 [3 8]\n",
      "This will return a 2-d array: [[2 3 4]\n",
      " [7 8 9]]\n"
     ]
    }
   ],
   "source": [
    "# Slicing 2-d\n",
    "import numpy as np\n",
    "\n",
    "arr = np.array([[1, 2, 3, 4, 5], [6, 7, 8, 9, 10]])\n",
    "print(arr[1, 1:4])\n",
    "print(\"This means from both elemens, return index 2\",arr[0:2,2])\n",
    "\n",
    "\n",
    "arr1 = np.array([[1, 2, 3, 4, 5], [6, 7, 8, 9, 10]])\n",
    "print(\"This will return a 2-d array:\",arr1[0:2, 1:4])"
   ]
  },
  {
   "cell_type": "markdown",
   "metadata": {},
   "source": [
    "# Numpy DataTypes"
   ]
  },
  {
   "cell_type": "code",
   "execution_count": 13,
   "metadata": {},
   "outputs": [
    {
     "name": "stdout",
     "output_type": "stream",
     "text": [
      "int32\n",
      "<U6\n",
      "|S1\n",
      "[1 2 3]\n",
      "int32\n",
      "float64\n",
      "[1 1 1]\n",
      "[ True False  True]\n",
      "bool\n"
     ]
    }
   ],
   "source": [
    "# DataTypes in Python\n",
    "# strings, float, complex,boolean, integer\n",
    "\n",
    "# Data types in Numpy\n",
    "# i - integer\n",
    "# b - boolean\n",
    "# u - unsigned integer\n",
    "# f - float\n",
    "# c - complex float\n",
    "# m - timedelta\n",
    "# M - datetime\n",
    "# O - object\n",
    "# S - string\n",
    "# U - unicode string\n",
    "# V - fixed chunk of memory for other type ( void )\n",
    "\n",
    "# dtype is used to check the datatype of an array\n",
    "\n",
    "arr = np.array([1,2,3,4,5])\n",
    "arr1 = np.array([\"banana\",\"apple\", \"cherry\"])\n",
    "\n",
    "print(arr.dtype)\n",
    "print(arr1.dtype)\n",
    "\n",
    "# creating an array with a defined dtype\n",
    "arr3 = np.array([1,2,3,4,5], dtype=\"S\")\n",
    "print(arr3.dtype)\n",
    "\n",
    "# The best way to change the data type of an array is to make a copy of the array and use the astype\n",
    "arr = np.array([1.1, 2.1, 3.1])\n",
    "\n",
    "newarr = arr.astype('i')\n",
    "\n",
    "print(newarr)\n",
    "print(newarr.dtype)\n",
    "\n",
    "# Change data type from float to integer by using int as parameter value:\n",
    "arr1 = np.array([1.1,1.2,1.3])\n",
    "newArr = arr1.astype(\"i\")\n",
    "print(arr1.dtype)\n",
    "print(newArr)\n",
    "\n",
    "# change dataType from integer to boolean\n",
    "arr = np.array([1, 0, 3])\n",
    "newarr = arr.astype(bool)\n",
    "print(newarr)\n",
    "print(newarr.dtype)"
   ]
  },
  {
   "cell_type": "markdown",
   "metadata": {},
   "source": [
    "# Numpy Array Copy Vs View"
   ]
  },
  {
   "cell_type": "code",
   "execution_count": 19,
   "metadata": {},
   "outputs": [
    {
     "name": "stdout",
     "output_type": "stream",
     "text": [
      "[40  2  3  4  5]\n",
      "[20  2  3  4  5]\n",
      "[20  2  3  4  5]\n",
      "[20  2  3  4  5]\n"
     ]
    }
   ],
   "source": [
    "# a copy is a new array while the view is the view of the original array\n",
    "\n",
    "arr = np.array([1,2,3,4,5])\n",
    "newArr = arr.copy()\n",
    "x = arr.view()\n",
    "\n",
    "x[0] = 20\n",
    "newArr[0] = 40\n",
    "\n",
    "print(newArr)\n",
    "print(arr)\n",
    "print(x)\n",
    "\n",
    "# copy returns none and view returns the original array\n",
    "print(x.base)\n",
    "print(newArr.base)"
   ]
  },
  {
   "cell_type": "markdown",
   "metadata": {},
   "source": [
    "# Array Shape"
   ]
  },
  {
   "cell_type": "code",
   "execution_count": 25,
   "metadata": {},
   "outputs": [
    {
     "name": "stdout",
     "output_type": "stream",
     "text": [
      "(2, 4)\n",
      "(1, 1, 1, 1, 4)\n"
     ]
    }
   ],
   "source": [
    "# The shape of an array is the number of elements in each dimension\n",
    "# shape returns a tuple\n",
    "\n",
    "arr = np.array([[1, 2, 3, 4], [5, 6, 7, 8]])\n",
    "print(arr.shape)\n",
    "# The above means the array has 2 dimension and eac dimension has 4 elements\n",
    "\n",
    "# Create an array with 5 dimensions using ndmin using a vector with values 1,2,3,4 and verify that last dimension has value 4:\n",
    "arr = np.array([1,2,3,4], ndmin=5)\n",
    "newArr = arr.copy()\n",
    "print(newArr.shape)\n",
    "\n",
    "\n",
    "\n",
    "\n",
    "\n",
    "\n",
    "\n",
    "\n"
   ]
  },
  {
   "cell_type": "markdown",
   "metadata": {},
   "source": [
    "# Reshaping"
   ]
  },
  {
   "cell_type": "code",
   "execution_count": 29,
   "metadata": {},
   "outputs": [
    {
     "name": "stdout",
     "output_type": "stream",
     "text": [
      "[[ 1  2  3]\n",
      " [ 4  5  6]\n",
      " [ 7  8  9]\n",
      " [10 11 12]]\n",
      "[[[ 1  2]\n",
      "  [ 3  4]\n",
      "  [ 5  6]]\n",
      "\n",
      " [[ 7  8]\n",
      "  [ 9 10]\n",
      "  [11 12]]]\n"
     ]
    }
   ],
   "source": [
    "# reshaping means changing the shape of an array. it is the number of elements in each dimension\n",
    "# reshape 1-d to 2-d\n",
    "# .reshape(array, array, element)\n",
    "\n",
    "arr = np.array([1, 2, 3, 4, 5, 6, 7, 8, 9, 10, 11, 12])\n",
    "\n",
    "print(arr.reshape(4,3))\n",
    "\n",
    "arr = np.array([1, 2, 3, 4, 5, 6, 7, 8, 9, 10, 11, 12])\n",
    "\n",
    "newarr = arr.reshape(2, 3, 2)\n",
    "\n",
    "print(newarr)"
   ]
  },
  {
   "cell_type": "code",
   "execution_count": 33,
   "metadata": {},
   "outputs": [
    {
     "name": "stdout",
     "output_type": "stream",
     "text": [
      "[[[1 2]\n",
      "  [3 4]]\n",
      "\n",
      " [[5 6]\n",
      "  [7 8]]]\n",
      "The Flattened array is: [1 2 3 4 5 6]\n"
     ]
    }
   ],
   "source": [
    "# UNKNOWN DIMENSION\n",
    "arr = np.array([1, 2, 3, 4, 5, 6, 7, 8])\n",
    "newarr = arr.reshape(2, 2, -1)\n",
    "print(newarr)\n",
    "\n",
    "# FLATTENING AN ARRAY - it means converting a multidimensional array into a 1-d array\n",
    "# we can -1 to do this\n",
    "\n",
    "arr = np.array([[1,2,3],[4,5,6]])\n",
    "print(\"The Flattened array is:\",arr.reshape(-1))\n",
    "\n",
    "\n",
    "# Note: There are a lot of functions for changing the shapes of arrays in numpy flatten, ravel and also for rearranging \n",
    "#     the elements rot90, flip, fliplr, flipud etc. These fall under Intermediate to Advanced section of numpy.\n",
    "\n",
    "\n",
    "\n",
    "\n",
    "\n"
   ]
  },
  {
   "cell_type": "markdown",
   "metadata": {},
   "source": [
    "# Array Iteration"
   ]
  },
  {
   "cell_type": "code",
   "execution_count": 41,
   "metadata": {},
   "outputs": [
    {
     "name": "stdout",
     "output_type": "stream",
     "text": [
      "1\n",
      "2\n",
      "3\n",
      "4\n",
      "5\n",
      "6\n",
      "7\n",
      "8\n"
     ]
    }
   ],
   "source": [
    "# array iteration means going through an element one one\n",
    "\n",
    "# arr = np.array([[1,2,3],[4,5,6]])\n",
    "# arr = np.array([[[1, 2, 3], [4, 5, 6]], [[7, 8, 9], [10, 11, 12]]])\n",
    "# for x in arr:\n",
    "#     for y in x:\n",
    "#         for z in y:\n",
    "#             print(z)\n",
    "\n",
    "# USING NDITER()\n",
    "arr = np.array([[[1, 2], [3, 4]], [[5, 6], [7, 8]]])\n",
    "for x in np.nditer(arr):\n",
    "  print(x)"
   ]
  },
  {
   "cell_type": "markdown",
   "metadata": {},
   "source": [
    "# Joining Array"
   ]
  },
  {
   "cell_type": "code",
   "execution_count": 14,
   "metadata": {},
   "outputs": [
    {
     "name": "stdout",
     "output_type": "stream",
     "text": [
      "[1 2 3 4 5 6]\n",
      "XXXXXXXXXXXXXXXXXXXXXXXXX\n",
      "[[1 2 5 6]\n",
      " [3 4 7 8]]\n",
      "Using stack() function\n",
      "[[1 4]\n",
      " [2 5]\n",
      " [3 6]]\n",
      "Stacking along rows: [1 2 3 4 5 6]\n",
      "Staking along columns: [[1 2 3]\n",
      " [4 5 6]]\n",
      "Staking Height/Depth: [[[1 4]\n",
      "  [2 5]\n",
      "  [3 6]]]\n"
     ]
    }
   ],
   "source": [
    "import numpy as np\n",
    "# we join array using concatenate or stack function\n",
    "\n",
    "# without axis assumes axis 0 as default\n",
    "arr1 = np.array([1,2,3])\n",
    "arr2 = np.array([4,5,6])\n",
    "arr = np.concatenate((arr1, arr2))\n",
    "print(arr)\n",
    "print(\"XXXXXXXXXXXXXXXXXXXXXXXXX\")\n",
    "# Joining 2-d array\n",
    "arr1 = np.array([[1, 2], [3, 4]])\n",
    "arr2 = np.array([[5, 6], [7, 8]])\n",
    "arr = np.concatenate((arr1, arr2), axis=1)\n",
    "\n",
    "print(arr)\n",
    "\n",
    "print(\"Using stack() function\")\n",
    "# using stack function\n",
    "arr1 = np.array([1,2,3])\n",
    "arr2 = np.array([4,5,6])\n",
    "arr = np.stack((arr1,arr2), axis=1)\n",
    "arra = np.hstack((arr1,arr2))\n",
    "arrb = np.vstack((arr1,arr2))\n",
    "arrc = np.dstack((arr1,arr2))\n",
    "\n",
    "print(arr)\n",
    "print(\"Stacking along rows:\",arra)\n",
    "print(\"Staking along columns:\", arrb)\n",
    "print(\"Staking Height/Depth:\", arrc)\n"
   ]
  },
  {
   "cell_type": "markdown",
   "metadata": {},
   "source": [
    "# Splitting Array (Reverse of Joing)"
   ]
  },
  {
   "cell_type": "code",
   "execution_count": 37,
   "metadata": {},
   "outputs": [],
   "source": [
    "# Joining merges multiple array into one while splitting breaks one array into multiple array\n",
    "# Similar alternative is the vsplit(), hsplit(), dsplit()\n"
   ]
  },
  {
   "cell_type": "code",
   "execution_count": 36,
   "metadata": {},
   "outputs": [
    {
     "name": "stdout",
     "output_type": "stream",
     "text": [
      "[3 4]\n",
      "[array([[1, 2],\n",
      "       [3, 4]]), array([[5, 6],\n",
      "       [7, 8]]), array([[ 9, 10],\n",
      "       [11, 12]])]\n",
      "[array([[1, 2, 3],\n",
      "       [4, 5, 6]]), array([[ 7,  8,  9],\n",
      "       [10, 11, 12]]), array([[13, 14, 15],\n",
      "       [16, 17, 18]])]\n"
     ]
    }
   ],
   "source": [
    "arr = np.array([1, 2, 3, 4, 5, 6])\n",
    "newarr = np.array_split(arr,3)\n",
    "print(newarr[1])\n",
    "\n",
    "# spitting 2-d array\n",
    "arr1 = np.array([[1, 2], [3, 4], [5, 6], [7, 8], [9, 10], [11, 12]])\n",
    "newarr1 = np.array_split(arr1,3)\n",
    "\n",
    "print(newarr1)\n",
    "\n",
    "\n",
    "arr = np.array([[1, 2, 3], [4, 5, 6], [7, 8, 9], [10, 11, 12], [13, 14, 15], [16, 17, 18]])\n",
    "newarr = np.vsplit(arr, 3)\n",
    "\n",
    "print(newarr)\n"
   ]
  },
  {
   "cell_type": "markdown",
   "metadata": {},
   "source": [
    "# Searhing Array"
   ]
  },
  {
   "cell_type": "code",
   "execution_count": 41,
   "metadata": {},
   "outputs": [
    {
     "name": "stdout",
     "output_type": "stream",
     "text": [
      "(array([2, 4, 7], dtype=int64),)\n",
      "(array([1, 3, 5, 7], dtype=int64),)\n",
      "(array([0, 2, 4, 6], dtype=int64),)\n"
     ]
    }
   ],
   "source": [
    "# you an search array for a certain value and return the indexes that get a match\n",
    "# to search an array, use the where() method\n",
    "\n",
    "arr = np.array([1,2,4,3,4,5,7,4])\n",
    "x = np.where(arr == 4)\n",
    "print(x)\n",
    "\n",
    "# find the index where the values are even\n",
    "arr = np.array([1, 2, 3, 4, 5, 6, 7, 8])\n",
    "y = np.where(arr%2 == 0)\n",
    "print(y)\n",
    "\n",
    "# find the index where the values are odd\n",
    "arr = np.array([1, 2, 3, 4, 5, 6, 7, 8])\n",
    "x = np.where(arr%2==1)\n",
    "print(x)\n"
   ]
  },
  {
   "cell_type": "code",
   "execution_count": null,
   "metadata": {},
   "outputs": [],
   "source": [
    "# There is a method called searchsorted() which performs a binary search in the array,\n",
    "# and returns the index where the specified value would be inserted to maintain the search order.\n"
   ]
  },
  {
   "cell_type": "code",
   "execution_count": null,
   "metadata": {},
   "outputs": [],
   "source": []
  }
 ],
 "metadata": {
  "kernelspec": {
   "display_name": "Python 3",
   "language": "python",
   "name": "python3"
  },
  "language_info": {
   "codemirror_mode": {
    "name": "ipython",
    "version": 3
   },
   "file_extension": ".py",
   "mimetype": "text/x-python",
   "name": "python",
   "nbconvert_exporter": "python",
   "pygments_lexer": "ipython3",
   "version": "3.8.3"
  }
 },
 "nbformat": 4,
 "nbformat_minor": 4
}
