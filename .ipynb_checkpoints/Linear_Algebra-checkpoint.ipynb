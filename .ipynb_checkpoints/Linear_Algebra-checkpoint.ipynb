{
 "cells": [
  {
   "cell_type": "markdown",
   "metadata": {},
   "source": [
    "<a href=\"https://colab.research.google.com/github/KutayAkalin/ML_Course_9-11-20/blob/main/Linear%20Algebra/Linear_Algebra.ipynb\">\n",
    "  <img src=\"https://colab.research.google.com/assets/colab-badge.svg\" alt=\"Open In Colab\"/>\n",
    "</a>"
   ]
  },
  {
   "cell_type": "markdown",
   "metadata": {
    "id": "bf15tCVlEoqh"
   },
   "source": [
    "![](img/logo.png)"
   ]
  },
  {
   "cell_type": "markdown",
   "metadata": {
    "id": "VrIbtuS4Eoqj"
   },
   "source": [
    "<h5><center>All rights reserved ©️ Global AI Hub 2020</center></h5> "
   ]
  },
  {
   "cell_type": "markdown",
   "metadata": {
    "id": "q8svL2FUEoqj"
   },
   "source": [
    "# Linear Algebra Review"
   ]
  },
  {
   "cell_type": "markdown",
   "metadata": {
    "id": "9CvXqHtHEoqk"
   },
   "source": [
    "![](img/linear.png)"
   ]
  },
  {
   "cell_type": "markdown",
   "metadata": {
    "id": "CiRWYak3Eoqk"
   },
   "source": [
    "- **Scalar:**  Any single numerical value.\n",
    "- **Vector:** An array of numbers(data) is a vector. \n",
    "- **Matrix:** A matrix is a 2-D array of shape $(m×n)$ with m rows and n columns.\n",
    "- **Tensor:** Generally, an n-dimensional array where n>2 is called a Tensor. But a matrix or a vector is also a valid tensor."
   ]
  },
  {
   "cell_type": "code",
   "execution_count": 1,
   "metadata": {
    "id": "PNp4ZvkmEoql"
   },
   "outputs": [],
   "source": [
    "import numpy as np"
   ]
  },
  {
   "cell_type": "code",
   "execution_count": null,
   "metadata": {},
   "outputs": [],
   "source": [
    "2"
   ]
  },
  {
   "cell_type": "markdown",
   "metadata": {
    "id": "Ljn54A0PEoqo"
   },
   "source": [
    "### Creating Vector"
   ]
  },
  {
   "cell_type": "code",
   "execution_count": 2,
   "metadata": {
    "colab": {
     "base_uri": "https://localhost:8080/",
     "height": 35
    },
    "id": "cViwMQZBEoqp",
    "outputId": "c4e9d558-5d85-4c91-f551-9fa46d1b24ca"
   },
   "outputs": [
    {
     "data": {
      "text/plain": [
       "array([[1, 2, 3, 4, 5]])"
      ]
     },
     "execution_count": 2,
     "metadata": {},
     "output_type": "execute_result"
    }
   ],
   "source": [
    "arr_1 = np.array([1,2,3,4,5],ndmin=2)\n",
    "arr_1"
   ]
  },
  {
   "cell_type": "code",
   "execution_count": 7,
   "metadata": {
    "colab": {
     "base_uri": "https://localhost:8080/",
     "height": 70
    },
    "id": "Ao_Wzw91Eoqs",
    "outputId": "55d3af02-eb22-4f57-80b9-17922a09ebbf"
   },
   "outputs": [
    {
     "name": "stdout",
     "output_type": "stream",
     "text": [
      "Type: <class 'numpy.ndarray'>\n",
      "Shape: (1, 5)\n",
      "Dimension: 2\n"
     ]
    }
   ],
   "source": [
    "print(f\"Type: {type(arr_1)}\")\n",
    "print(f\"Shape: {arr_1.shape}\")\n",
    "print(f\"Dimension: {arr_1.ndim}\")"
   ]
  },
  {
   "cell_type": "markdown",
   "metadata": {
    "id": "hu32zcsKEoqv"
   },
   "source": [
    "### Creating Matrix"
   ]
  },
  {
   "cell_type": "code",
   "execution_count": 3,
   "metadata": {
    "colab": {
     "base_uri": "https://localhost:8080/",
     "height": 52
    },
    "id": "Az4Es5XOEoqw",
    "outputId": "38c31156-fb98-49e8-939a-1381b33e8ad4"
   },
   "outputs": [
    {
     "data": {
      "text/plain": [
       "array([[1, 2, 3, 4],\n",
       "       [5, 6, 7, 8]])"
      ]
     },
     "execution_count": 3,
     "metadata": {},
     "output_type": "execute_result"
    }
   ],
   "source": [
    "arr_2 = np.array([[1,2,3,4],\n",
    "                  [5,6,7,8]]) \n",
    "arr_2"
   ]
  },
  {
   "cell_type": "code",
   "execution_count": null,
   "metadata": {
    "colab": {
     "base_uri": "https://localhost:8080/",
     "height": 70
    },
    "id": "WiraowZLEoqz",
    "outputId": "96989ebd-1b60-46c9-f256-abecfc65a4de"
   },
   "outputs": [
    {
     "name": "stdout",
     "output_type": "stream",
     "text": [
      "Type: <class 'numpy.ndarray'>\n",
      "Shape: (2, 4)\n",
      "Dimension: 2\n"
     ]
    }
   ],
   "source": [
    "print(f\"Type: {type(arr_2)}\")\n",
    "print(f\"Shape: {arr_2.shape}\")\n",
    "print(f\"Dimension: {arr_2.ndim}\")"
   ]
  },
  {
   "cell_type": "markdown",
   "metadata": {
    "id": "nXHAX7y5Eoq1"
   },
   "source": [
    "# Addition and Scalar Multiplication "
   ]
  },
  {
   "cell_type": "markdown",
   "metadata": {
    "id": "gW4wg1S9Eoq2"
   },
   "source": [
    "## Addition"
   ]
  },
  {
   "cell_type": "markdown",
   "metadata": {
    "id": "qkhyl2G9Eoq2"
   },
   "source": [
    " Two matrices may be added or subtracted only if they have the same dimension ( $ m_1$ x $n_1$ = $m_2$  x $n_2$ ); that is, they must have the same number of rows and columns. Addition or subtraction is accomplished by adding or subtracting corresponding elements.\n",
    "\n"
   ]
  },
  {
   "cell_type": "code",
   "execution_count": null,
   "metadata": {
    "colab": {
     "base_uri": "https://localhost:8080/",
     "height": 248
    },
    "id": "K3J25dgJEoq3",
    "outputId": "e2aaaeb4-d64e-49d0-e39e-227ff22b5e47"
   },
   "outputs": [
    {
     "name": "stdout",
     "output_type": "stream",
     "text": [
      "Matrice_1: \n",
      "[[1 2 3 4]\n",
      " [5 6 7 8]\n",
      " [9 8 6 5]] \n",
      "\n",
      "Shape of Matrice 1: (3, 4)\n",
      "\n",
      "Matrice_2: \n",
      "[[-1  4  3  5]\n",
      " [ 1  4  7  9]\n",
      " [-6  5 11 -4]] \n",
      "\n",
      "Shape of Matrice 2: (3, 4)\n"
     ]
    }
   ],
   "source": [
    "matrice_1 = np.array([[1, 2, 3, 4], \n",
    "                      [5, 6, 7, 8], \n",
    "                      [9, 8, 6, 5]])\n",
    "\n",
    "matrice_2 = np.array([[-1, 4, 3, 5],\n",
    "                      [1, 4, 7, 9],\n",
    "                      [-6, 5, 11, -4]])\n",
    "\n",
    "print(f\"Matrice_1: \\n{matrice_1}\",\"\\n\")\n",
    "print(f\"Shape of Matrice 1: {matrice_1.shape}\")\n",
    "print(f\"\\nMatrice_2: \\n{matrice_2}\",\"\\n\")\n",
    "print(f\"Shape of Matrice 2: {matrice_2.shape}\")"
   ]
  },
  {
   "cell_type": "markdown",
   "metadata": {
    "id": "FoEH4I5-Eoq6"
   },
   "source": [
    "### Adding two matrices"
   ]
  },
  {
   "cell_type": "code",
   "execution_count": null,
   "metadata": {
    "colab": {
     "base_uri": "https://localhost:8080/",
     "height": 70
    },
    "id": "bvT8Xe-JEoq7",
    "outputId": "db7f66c5-2de6-4007-cd5a-ee0f816e7e8e"
   },
   "outputs": [
    {
     "data": {
      "text/plain": [
       "array([[ 0,  6,  6,  9],\n",
       "       [ 6, 10, 14, 17],\n",
       "       [ 3, 13, 17,  1]])"
      ]
     },
     "execution_count": 23,
     "metadata": {
      "tags": []
     },
     "output_type": "execute_result"
    }
   ],
   "source": [
    "matrice_1 + matrice_2"
   ]
  },
  {
   "cell_type": "markdown",
   "metadata": {
    "id": "XV0SqgErEoq9"
   },
   "source": [
    "---"
   ]
  },
  {
   "cell_type": "markdown",
   "metadata": {
    "id": "pVDK5TrSEoq9"
   },
   "source": [
    "## Multiplication"
   ]
  },
  {
   "cell_type": "markdown",
   "metadata": {
    "id": "tHBac_SaEoq-"
   },
   "source": [
    "### Scalar Multiplication"
   ]
  },
  {
   "cell_type": "markdown",
   "metadata": {
    "id": "0QL9SKeaEoq-"
   },
   "source": [
    " The term scalar multiplication refers to the product of a real number and a matrix. In scalar multiplication, each entry in the matrix is multiplied by the given scalar."
   ]
  },
  {
   "cell_type": "code",
   "execution_count": null,
   "metadata": {
    "colab": {
     "base_uri": "https://localhost:8080/",
     "height": 70
    },
    "id": "K5fgYct3Eoq-",
    "outputId": "dd24ce18-272e-466d-e60a-df2157fff632"
   },
   "outputs": [
    {
     "data": {
      "text/plain": [
       "array([[ -1,   8,   9,  20],\n",
       "       [  5,  24,  49,  72],\n",
       "       [-54,  40,  66, -20]])"
      ]
     },
     "execution_count": 28,
     "metadata": {
      "tags": []
     },
     "output_type": "execute_result"
    }
   ],
   "source": [
    "matrice_1 * matrice_2"
   ]
  },
  {
   "cell_type": "markdown",
   "metadata": {
    "id": "KN_oC5TqEorC"
   },
   "source": [
    "### Matrix-Vector Multiplication "
   ]
  },
  {
   "cell_type": "markdown",
   "metadata": {
    "id": "vffZaAAIEorC"
   },
   "source": [
    " Multiplication between a matrix \"M\" and a vector \"v\", we need to view the vector as a column matrix. We define the matrix-vector product only for the case when the number of columns in M equals the number of rows in v. So, if M is an m×n matrix (i.e., with n columns), then the product $M.v$ is defined for $n$ × $1$ column vectors x. If we let $M.v=r$, then $r$ is an $m$ x $1$ column vector. \n",
    "\n",
    " $$ (m\\;,\\;n)\\;\\;.\\;(n\\;,\\;1) = (m\\;,\\;1) $$"
   ]
  },
  {
   "cell_type": "code",
   "execution_count": 23,
   "metadata": {
    "colab": {
     "base_uri": "https://localhost:8080/",
     "height": 52
    },
    "id": "SDRAq70xEorC",
    "outputId": "a843336c-b7a2-4b51-f991-f351523becda"
   },
   "outputs": [
    {
     "name": "stdout",
     "output_type": "stream",
     "text": [
      "Shape of matrix M = (3, 3) \n",
      " Shape of vector v = (3,)\n"
     ]
    }
   ],
   "source": [
    "M = np.array([[ 6, 1 ,3], \n",
    "              [ -1, 1 ,1], \n",
    "              [ 1, 3 ,2]])\n",
    "\n",
    "#Rank 1 array\n",
    "v = np.array([1, 2, 3])\n",
    "\n",
    "print(f\"Shape of matrix M = {M.shape}\",\"\\n\",f\"Shape of vector v = {v.shape}\")"
   ]
  },
  {
   "cell_type": "code",
   "execution_count": 5,
   "metadata": {},
   "outputs": [
    {
     "data": {
      "text/plain": [
       "4"
      ]
     },
     "execution_count": 5,
     "metadata": {},
     "output_type": "execute_result"
    }
   ],
   "source": [
    "-1*1 + 2*1 + 3*1"
   ]
  },
  {
   "cell_type": "markdown",
   "metadata": {
    "id": "tyLcx6rBEorF"
   },
   "source": [
    "#### Option 1:"
   ]
  },
  {
   "cell_type": "code",
   "execution_count": 24,
   "metadata": {
    "colab": {
     "base_uri": "https://localhost:8080/",
     "height": 35
    },
    "id": "16x8wmcuEorF",
    "outputId": "4869b4ab-8ea8-48e1-8c89-5e98dfaaf7d8"
   },
   "outputs": [
    {
     "data": {
      "text/plain": [
       "array([17,  4, 13])"
      ]
     },
     "execution_count": 24,
     "metadata": {},
     "output_type": "execute_result"
    }
   ],
   "source": [
    "M.dot(v)"
   ]
  },
  {
   "cell_type": "markdown",
   "metadata": {
    "id": "hUZ5F8EIEorI"
   },
   "source": [
    "#### Option 2:"
   ]
  },
  {
   "cell_type": "code",
   "execution_count": 25,
   "metadata": {
    "colab": {
     "base_uri": "https://localhost:8080/",
     "height": 35
    },
    "id": "T-arc6Q8EorI",
    "outputId": "19336582-670d-40ee-d6c9-6084076ce85a"
   },
   "outputs": [
    {
     "data": {
      "text/plain": [
       "array([17,  4, 13])"
      ]
     },
     "execution_count": 25,
     "metadata": {},
     "output_type": "execute_result"
    }
   ],
   "source": [
    "np.dot(M,v)"
   ]
  },
  {
   "cell_type": "markdown",
   "metadata": {
    "id": "zVo3plssEorK"
   },
   "source": [
    "### Matrix-Matrix Multiplication "
   ]
  },
  {
   "cell_type": "markdown",
   "metadata": {
    "id": "IEzl_dSIEorK"
   },
   "source": [
    "Matrix-Matrix multiplication,  the number of columns in the first matrix must be equal to the number of rows in the second matrix. The resulting matrix, known as the matrix product, has the number of rows of the first and the number of columns of the second matrix.\n",
    "\n",
    "$$ n_1 = m_2$$\n"
   ]
  },
  {
   "cell_type": "code",
   "execution_count": 6,
   "metadata": {
    "colab": {
     "base_uri": "https://localhost:8080/",
     "height": 52
    },
    "id": "bXA0BKPLEorL",
    "outputId": "4356a204-5158-4dfa-9466-16ca06eecf6e"
   },
   "outputs": [
    {
     "name": "stdout",
     "output_type": "stream",
     "text": [
      "Shape of matrix C = (3, 4) \n",
      " Shape of vector D = (4, 3)\n",
      "[[-1  4  3]\n",
      " [ 5  1  4]\n",
      " [ 7  9 -6]\n",
      " [ 5 11 -4]]\n"
     ]
    }
   ],
   "source": [
    "C = np.array([[1, 2, 3, 4],\n",
    "              [5, 6, 7, 8],\n",
    "              [9, 8, 6, 5]])\n",
    "\n",
    "D = np.array([[-1, 4, 3, 5],\n",
    "              [1, 4, 7, 9],\n",
    "              [-6, 5, 11, -4]]).reshape(4,3)\n",
    "\n",
    "print(f\"Shape of matrix C = {C.shape}\",\"\\n\",f\"Shape of vector D = {D.shape}\")\n",
    "print(D)"
   ]
  },
  {
   "cell_type": "code",
   "execution_count": null,
   "metadata": {
    "colab": {
     "base_uri": "https://localhost:8080/",
     "height": 70
    },
    "id": "6kzkltUSEorN",
    "outputId": "72e657cf-af21-41d0-9663-ba949eb080a3"
   },
   "outputs": [
    {
     "data": {
      "text/plain": [
       "array([[ 50,  77, -23],\n",
       "       [114, 177, -35],\n",
       "       [ 98, 153,   3]])"
      ]
     },
     "execution_count": 50,
     "metadata": {
      "tags": []
     },
     "output_type": "execute_result"
    }
   ],
   "source": [
    "C.dot(D)"
   ]
  },
  {
   "cell_type": "code",
   "execution_count": null,
   "metadata": {
    "colab": {
     "base_uri": "https://localhost:8080/",
     "height": 70
    },
    "id": "-FTm0NADEorP",
    "outputId": "66bc24b1-e2da-4278-b132-8ea4dc344700"
   },
   "outputs": [
    {
     "data": {
      "text/plain": [
       "array([[ 50,  77, -23],\n",
       "       [114, 177, -35],\n",
       "       [ 98, 153,   3]])"
      ]
     },
     "execution_count": 51,
     "metadata": {
      "tags": []
     },
     "output_type": "execute_result"
    }
   ],
   "source": [
    "np.dot(C,D)"
   ]
  },
  {
   "cell_type": "code",
   "execution_count": 27,
   "metadata": {},
   "outputs": [
    {
     "data": {
      "text/plain": [
       "array([[46, 46, 43, 43],\n",
       "       [46, 48, 46, 48],\n",
       "       [-2, 20, 48, 70],\n",
       "       [24, 44, 68, 88]])"
      ]
     },
     "execution_count": 27,
     "metadata": {},
     "output_type": "execute_result"
    }
   ],
   "source": [
    "np.dot(D,C)"
   ]
  },
  {
   "cell_type": "markdown",
   "metadata": {
    "id": "ncrKTCv7EorV"
   },
   "source": [
    "## Matrix Multiplication Properties"
   ]
  },
  {
   "cell_type": "markdown",
   "metadata": {
    "id": "hRgUcHmQEorV"
   },
   "source": [
    "1. The commutative property of multiplication $AB \\neq BA$\n",
    "\n",
    "2. Associative property of multiplication     $(AB)C =  A(BC)$\n",
    "\n",
    "3. Distributive properties                    $A(B+C) =  AB+AC$\n",
    "\n",
    "4. Multiplicative identity property           $ IA =A\\, \\& \\,  AI=A$\n",
    "\n",
    "5. Multiplicative property of zero            $ I0 =0  \\, \\&  \\,  A0=0$\n",
    "\n",
    "6. Dimension property"
   ]
  },
  {
   "cell_type": "markdown",
   "metadata": {
    "id": "w2anp9PQEorW"
   },
   "source": [
    "# Inverse and Transpose"
   ]
  },
  {
   "cell_type": "markdown",
   "metadata": {
    "id": "IHCTLSUpEorW"
   },
   "source": [
    "## Inverse"
   ]
  },
  {
   "cell_type": "markdown",
   "metadata": {
    "id": "Wp-bJiKnEorX"
   },
   "source": [
    "In linear algebra, an n-by-n square matrix A is called invertible (also nonsingular or nondegenerate), if there exists an n-by-n square matrix B such that\n",
    "\n",
    "$ AB=BA=I $ where In denotes the n-by-n identity matrix and the multiplication used is ordinary matrix multiplication. If this is the case, then the matrix B is uniquely determined by A, and is called the (multiplicative) inverse of A, denoted by A−1.\n",
    "\n",
    " $$A\\;.\\; A^{-1} = I $$\n",
    "Where:  \n",
    "$I$: Identity Matrix  \n",
    "Shape A: $ (n,n)$ "
   ]
  },
  {
   "cell_type": "code",
   "execution_count": null,
   "metadata": {
    "colab": {
     "base_uri": "https://localhost:8080/",
     "height": 70
    },
    "id": "pvHq_cv6RBCn",
    "outputId": "ee88e630-ed95-42fa-fc79-1344db14b219"
   },
   "outputs": [
    {
     "data": {
      "text/plain": [
       "array([[1., 0., 0.],\n",
       "       [0., 1., 0.],\n",
       "       [0., 0., 1.]])"
      ]
     },
     "execution_count": 80,
     "metadata": {
      "tags": []
     },
     "output_type": "execute_result"
    }
   ],
   "source": [
    "#Example of identity matrix with 3 x 3 dimension\n",
    "np.identity(3)"
   ]
  },
  {
   "cell_type": "code",
   "execution_count": 7,
   "metadata": {
    "id": "8SvZ5NFnEorX"
   },
   "outputs": [],
   "source": [
    "x = np.array([[6, 9],\n",
    "              [12, 17]])\n",
    "\n",
    "y = np.array([[8, 5],\n",
    "              [1, 2]])"
   ]
  },
  {
   "cell_type": "code",
   "execution_count": 9,
   "metadata": {},
   "outputs": [
    {
     "data": {
      "text/plain": [
       "(2, 2)"
      ]
     },
     "execution_count": 9,
     "metadata": {},
     "output_type": "execute_result"
    }
   ],
   "source": [
    "y.shape"
   ]
  },
  {
   "cell_type": "code",
   "execution_count": 11,
   "metadata": {
    "id": "oeaaSv9SEorZ"
   },
   "outputs": [
    {
     "data": {
      "text/plain": [
       "array([[-2.83333333,  1.5       ],\n",
       "       [ 2.        , -1.        ]])"
      ]
     },
     "execution_count": 11,
     "metadata": {},
     "output_type": "execute_result"
    }
   ],
   "source": [
    "x_inv = np.linalg.inv(x)\n",
    "x_inv"
   ]
  },
  {
   "cell_type": "code",
   "execution_count": 12,
   "metadata": {
    "colab": {
     "base_uri": "https://localhost:8080/",
     "height": 52
    },
    "id": "F-nZz--VP7T4",
    "outputId": "a28c2018-5ae0-4b4d-a294-0a05443e11fd"
   },
   "outputs": [
    {
     "data": {
      "text/plain": [
       "array([[1., 0.],\n",
       "       [0., 1.]])"
      ]
     },
     "execution_count": 12,
     "metadata": {},
     "output_type": "execute_result"
    }
   ],
   "source": [
    "x.dot(x_inv)"
   ]
  },
  {
   "cell_type": "markdown",
   "metadata": {
    "id": "BTOGBPgeEord"
   },
   "source": [
    "## Transpose"
   ]
  },
  {
   "cell_type": "markdown",
   "metadata": {
    "id": "22WuaRLnEord"
   },
   "source": [
    "In linear algebra, the transpose of a matrix is an operator which flips a matrix over its diagonal; that is, it switches the row and column indices of the matrix $A$ by producing another matrix, often denoted by $A^T$(among other notations).\n",
    "\n",
    "If matrix A's shape is $(n,m)$, then shape of $A^T$ will be shape of $(m,n)$"
   ]
  },
  {
   "cell_type": "code",
   "execution_count": 13,
   "metadata": {
    "colab": {
     "base_uri": "https://localhost:8080/",
     "height": 52
    },
    "id": "5WK1OEQDEord",
    "outputId": "54db8416-1fa2-4eda-e64e-8f4f8f55a9eb"
   },
   "outputs": [
    {
     "data": {
      "text/plain": [
       "array([[ 6,  9],\n",
       "       [12, 17]])"
      ]
     },
     "execution_count": 13,
     "metadata": {},
     "output_type": "execute_result"
    }
   ],
   "source": [
    "x"
   ]
  },
  {
   "cell_type": "code",
   "execution_count": 14,
   "metadata": {
    "colab": {
     "base_uri": "https://localhost:8080/",
     "height": 52
    },
    "id": "989rBTm7Eorf",
    "outputId": "c6762853-0c18-43a7-9e09-b8c6eea471a9"
   },
   "outputs": [
    {
     "data": {
      "text/plain": [
       "array([[ 6, 12],\n",
       "       [ 9, 17]])"
      ]
     },
     "execution_count": 14,
     "metadata": {},
     "output_type": "execute_result"
    }
   ],
   "source": [
    "x_trans = x.T\n",
    "x_trans"
   ]
  },
  {
   "cell_type": "code",
   "execution_count": 16,
   "metadata": {},
   "outputs": [
    {
     "data": {
      "text/plain": [
       "array([[1, 5, 9],\n",
       "       [2, 6, 8],\n",
       "       [3, 7, 6],\n",
       "       [4, 8, 5]])"
      ]
     },
     "execution_count": 16,
     "metadata": {},
     "output_type": "execute_result"
    }
   ],
   "source": [
    "C.T"
   ]
  },
  {
   "cell_type": "code",
   "execution_count": 39,
   "metadata": {
    "colab": {
     "base_uri": "https://localhost:8080/",
     "height": 159
    },
    "id": "0nfN6Dq8Eori",
    "outputId": "645541ae-1d0b-42d6-b63d-17e6c8db32aa"
   },
   "outputs": [
    {
     "name": "stdout",
     "output_type": "stream",
     "text": [
      "Matrice: \n",
      "[[6 1 2]\n",
      " [5 2 3]\n",
      " [3 5 9]\n",
      " [1 7 1]\n",
      " [5 2 6]]\n",
      "\n",
      "Shape: (5, 3)\n"
     ]
    }
   ],
   "source": [
    "A = np.random.randint(1, 10, size=(5, 3))\n",
    "\n",
    "print(f\"Matrice: \\n{A}\")\n",
    "print(f\"\\nShape: {A.shape}\")"
   ]
  },
  {
   "cell_type": "code",
   "execution_count": 79,
   "metadata": {
    "colab": {
     "base_uri": "https://localhost:8080/",
     "height": 159
    },
    "id": "s5CBacjkSOGj",
    "outputId": "196467e0-b123-4f59-9d9e-2885aff1e180"
   },
   "outputs": [
    {
     "name": "stdout",
     "output_type": "stream",
     "text": [
      "Matrice: \n",
      "[[5 5 1]\n",
      " [7 7 3]\n",
      " [4 1 9]\n",
      " [9 8 5]\n",
      " [9 7 9]]\n",
      "\n",
      "Shape: (5, 3)\n"
     ]
    }
   ],
   "source": [
    "#Seed\n",
    "np.random.seed(5)\n",
    "\n",
    "A = np.random.randint(1, 10, size=(5, 3))\n",
    "\n",
    "print(f\"Matrice: \\n{A}\")\n",
    "print(f\"\\nShape: {A.shape}\")"
   ]
  },
  {
   "cell_type": "code",
   "execution_count": 85,
   "metadata": {},
   "outputs": [
    {
     "data": {
      "text/plain": [
       "array([[62, 85, 20],\n",
       "       [45, 88, 71],\n",
       "       [52, 33, 98],\n",
       "       [53, 60, 68],\n",
       "       [78, 46, 67]])"
      ]
     },
     "execution_count": 85,
     "metadata": {},
     "output_type": "execute_result"
    }
   ],
   "source": [
    "np.random.seed()\n",
    "\n",
    "A = np.random.randint(1, 10, size=(5, 3))\n",
    "\n",
    "B = np.random.randint(17, 100, size=(5, 3))\n",
    "\n",
    "A + B"
   ]
  },
  {
   "cell_type": "code",
   "execution_count": 51,
   "metadata": {
    "colab": {
     "base_uri": "https://localhost:8080/",
     "height": 124
    },
    "id": "3196zyn2Eork",
    "outputId": "4cee206e-b4f0-4fd3-ee9a-26591c8c55f4"
   },
   "outputs": [
    {
     "name": "stdout",
     "output_type": "stream",
     "text": [
      "Matrice:  \n",
      "[[4 5 9 4 1]\n",
      " [9 8 8 1 3]\n",
      " [5 2 4 4 9]]\n",
      "\n",
      "Shape: (3, 5)\n"
     ]
    }
   ],
   "source": [
    "A_t = A.T\n",
    "\n",
    "print(f\"Matrice:  \\n{A_t}\")\n",
    "print(f\"\\nShape: {A_t.shape}\")"
   ]
  },
  {
   "cell_type": "code",
   "execution_count": 80,
   "metadata": {
    "id": "Gg7E0F_7Eorm"
   },
   "outputs": [],
   "source": [
    "np.random.seed()"
   ]
  },
  {
   "cell_type": "code",
   "execution_count": null,
   "metadata": {
    "id": "zBORL4KGEoro"
   },
   "outputs": [],
   "source": []
  }
 ],
 "metadata": {
  "colab": {
   "collapsed_sections": [],
   "name": "Linear_Algebra.ipynb",
   "provenance": []
  },
  "kernelspec": {
   "display_name": "Python 3",
   "language": "python",
   "name": "python3"
  },
  "language_info": {
   "codemirror_mode": {
    "name": "ipython",
    "version": 3
   },
   "file_extension": ".py",
   "mimetype": "text/x-python",
   "name": "python",
   "nbconvert_exporter": "python",
   "pygments_lexer": "ipython3",
   "version": "3.7.3"
  }
 },
 "nbformat": 4,
 "nbformat_minor": 4
}
