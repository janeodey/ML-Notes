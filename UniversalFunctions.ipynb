{
 "cells": [
  {
   "cell_type": "code",
   "execution_count": 6,
   "metadata": {},
   "outputs": [],
   "source": [
    "# ufuncs stands for universal functions and they are numpy functions that operates on the ndarray object\n",
    "\n",
    "# Why use ufuncs?\n",
    "# ufuncs are used to implement vectorization in NumPy which is way faster than iterating over elements.\n",
    "# They also provide broadcasting and additional methods like reduce, accumulate etc. that are very helpful for computation.\n",
    "# ufuncs also take additional arguments, like:\n",
    "# where boolean array or condition defining where the operations should take place.\n",
    "# dtype defining the return type of elements.\n",
    "# out output array where the return value should be copied.\n",
    "\n",
    "\n",
    "\n",
    "\n",
    "\n",
    "\n",
    "\n",
    "\n"
   ]
  },
  {
   "cell_type": "code",
   "execution_count": 10,
   "metadata": {},
   "outputs": [
    {
     "name": "stdout",
     "output_type": "stream",
     "text": [
      "Without the numpy ufunc\n",
      "[6, 8, 10, 12]\n",
      "\n",
      "with the numpy ufunc\n",
      "[ 6  8 10 12]\n"
     ]
    }
   ],
   "source": [
    "import numpy as np\n",
    "# Add the elements of 2 arrays\n",
    "\n",
    "print(\"Without the numpy ufunc\")\n",
    "x = [1,2,3,4]\n",
    "y = [5,6,7,8]\n",
    "z = []\n",
    "\n",
    "for i,j in zip(x,y):\n",
    "    z.append(i+j)\n",
    "print(z)\n",
    "\n",
    "print(\"\")\n",
    "\n",
    "print(\"with the numpy ufunc\")\n",
    "x = [1,2,3,4]\n",
    "y = [5,6,7,8]\n",
    "z = np.add(x,y)\n",
    "print(z)"
   ]
  },
  {
   "cell_type": "markdown",
   "metadata": {},
   "source": [
    "# Create your own ufunc"
   ]
  },
  {
   "cell_type": "code",
   "execution_count": 2,
   "metadata": {},
   "outputs": [],
   "source": [
    "import numpy as np\n",
    "# To create you own ufunc, you have to define a function, like you do with normal functions in Python, then you add it to your NumPy ufunc library with the frompyfunc() method.\n",
    "# The frompyfunc() method takes the following arguments:\n",
    "# function - the name of the function.\n",
    "# inputs - the number of input arguments (arrays).\n",
    "# outputs - the number of output arrays."
   ]
  },
  {
   "cell_type": "code",
   "execution_count": 12,
   "metadata": {},
   "outputs": [
    {
     "name": "stdout",
     "output_type": "stream",
     "text": [
      "<class 'numpy.ufunc'>\n"
     ]
    }
   ],
   "source": [
    "def myadd(x,y):\n",
    "    return x + y\n",
    "\n",
    "myadd = np.frompyfunc(myadd, 2, 1)\n",
    "    \n",
    "x = myadd([1,2,3,4], [5,6,7,8])\n",
    "print(type(np.add))\n"
   ]
  },
  {
   "cell_type": "markdown",
   "metadata": {},
   "source": [
    "# SIMPLE ARITHMETIC"
   ]
  },
  {
   "cell_type": "code",
   "execution_count": null,
   "metadata": {},
   "outputs": [],
   "source": [
    "# You can use arithmetic operation directly on numpy arrays. +-/*\n",
    "# Arithmetic Conditionally: means that we can define conditions where the arithmetic operation should happen.\n",
    "# All of the discussed arithmetic functions take a where parameter in which we can specify that condition.\n",
    "\n",
    "\n",
    "\n"
   ]
  },
  {
   "cell_type": "code",
   "execution_count": 19,
   "metadata": {},
   "outputs": [
    {
     "name": "stdout",
     "output_type": "stream",
     "text": [
      "[30 32 34 36 38 40]\n",
      "[-10 -10 -10 -10 -10 -10]\n",
      "[0.5        0.52380952 0.54545455 0.56521739 0.58333333 0.6       ]\n",
      "[200 231 264 299 336 375]\n",
      "[10 11 12 13 14 15]\n",
      "(array([0, 0, 0, 0, 0, 0], dtype=int32), array([10, 11, 12, 13, 14, 15], dtype=int32))\n"
     ]
    }
   ],
   "source": [
    "arr1 = np.array([10, 11, 12, 13, 14, 15])\n",
    "arr2 = np.array([20, 21, 22, 23, 24, 25])\n",
    "\n",
    "newarr1 = np.add(arr1,arr2)\n",
    "newarr2 = np.subtract(arr1,arr2)\n",
    "newarr3 = np.divide(arr1,arr2)\n",
    "newarr4 = np.multiply(arr1,arr2)\n",
    "newarr5 = np.mod(arr1,arr2)\n",
    "newarr6 = np.divmod(arr1,arr2)\n",
    "\n",
    "\n",
    "print(newarr1)\n",
    "print(newarr2)\n",
    "print(newarr3)\n",
    "print(newarr4)\n",
    "print(newarr5)\n",
    "print(newarr6)\n",
    "\n",
    "# others include: absolute, power, remainder"
   ]
  },
  {
   "cell_type": "markdown",
   "metadata": {},
   "source": [
    "# ROUNDING DECIMAL"
   ]
  },
  {
   "cell_type": "code",
   "execution_count": 37,
   "metadata": {},
   "outputs": [
    {
     "name": "stdout",
     "output_type": "stream",
     "text": [
      "[-2.  3.]\n",
      "Round: 3.56\n",
      "[-3.  3.]\n",
      "Floor: [-4.  3.]\n",
      "Ceil: [-3.  4.]\n"
     ]
    }
   ],
   "source": [
    "# There are primarily 5 ways of decimals in numpy\n",
    "# truncating, rounding, fix, floor, ceil\n",
    "\n",
    "x = np.trunc([-2.6782, 3.999])\n",
    "print(x)\n",
    "\n",
    "x = np.round(3.556,2)\n",
    "print(\"Round:\", x)\n",
    "\n",
    "arr = np.fix([-3.1666, 3.6667])\n",
    "print(arr)\n",
    "arr = np.floor([-3.1666, 3.6667])\n",
    "print(\"Floor:\", arr)\n",
    "arr = np.ceil([-3.1666, 3.6667])\n",
    "print(\"Ceil:\", arr)"
   ]
  },
  {
   "cell_type": "markdown",
   "metadata": {},
   "source": [
    "# NumPy Logs"
   ]
  },
  {
   "cell_type": "code",
   "execution_count": null,
   "metadata": {},
   "outputs": [],
   "source": [
    "# numpy provides function to work at base 2, e and 10\n",
    "# All of the log functions will place -inf or inf in the elements if the log can not be computed."
   ]
  },
  {
   "cell_type": "code",
   "execution_count": 8,
   "metadata": {},
   "outputs": [],
   "source": [
    "import numpy as np\n",
    "from math import log"
   ]
  },
  {
   "cell_type": "code",
   "execution_count": 10,
   "metadata": {},
   "outputs": [
    {
     "name": "stdout",
     "output_type": "stream",
     "text": [
      "[0.         1.         1.5849625  2.         2.32192809 2.5849625\n",
      " 2.80735492 3.         3.169925  ]\n",
      "Log at base 10 [0.         0.30103    0.47712125 0.60205999 0.69897    0.77815125\n",
      " 0.84509804 0.90308999 0.95424251]\n",
      "Natural log:\n",
      " [0.         0.69314718 1.09861229 1.38629436 1.60943791 1.79175947\n",
      " 1.94591015 2.07944154 2.19722458]\n",
      "\n",
      "Log at any Base 1.7005483074552052\n"
     ]
    }
   ],
   "source": [
    "arr = np.arange(1,10)\n",
    "\n",
    "print(np.log2(arr))\n",
    "print(\"Log at base 10\",np.log10(arr))\n",
    "print(f\"Natural log:\\n {np.log(arr)}\")\n",
    "\n",
    "\n",
    "# Log at Any Base\n",
    "# NumPy does not provide any function to take log at any base, so we can use the frompyfunc() function along with inbuilt\n",
    "# function math.log() with two input parameters and one output parameter:\n",
    "print(\"\")\n",
    "nplog = np.frompyfunc(log,2,1)\n",
    "print(f\"Log at any Base {nplog(100,15)}\")\n",
    "\n",
    "\n",
    "\n"
   ]
  },
  {
   "cell_type": "markdown",
   "metadata": {},
   "source": [
    "# NumPy Summations"
   ]
  },
  {
   "cell_type": "code",
   "execution_count": 14,
   "metadata": {},
   "outputs": [
    {
     "name": "stdout",
     "output_type": "stream",
     "text": [
      "Addition: [2 4 6]\n",
      "Summation: 12\n"
     ]
    }
   ],
   "source": [
    "# What is the difference between summation and addition?\n",
    "# Addition is done between two arguments whereas summation happens over n elements.\n",
    "\n",
    "arr1 = np.array([1, 2, 3])\n",
    "arr2 = np.array([1, 2, 3])\n",
    "\n",
    "arr = np.add(arr1, arr2)\n",
    "arr3 = np.sum([arr1,arr2])\n",
    "\n",
    "print(f\"Addition: {arr}\")\n",
    "print(f\"Summation: {arr3}\")\n",
    "\n"
   ]
  },
  {
   "cell_type": "code",
   "execution_count": 15,
   "metadata": {},
   "outputs": [
    {
     "name": "stdout",
     "output_type": "stream",
     "text": [
      "[ 1  3  6 10 15]\n"
     ]
    }
   ],
   "source": [
    "# Cummulative Sum\n",
    "# Cummulative sum means partially adding the elements in array.\n",
    "# E.g. The partial sum of [1, 2, 3, 4] would be [1, 1+2, 1+2+3, 1+2+3+4] = [1, 3, 6, 10].\n",
    "# Perfom partial sum with the cumsum() function\n",
    "\n",
    "arr  = np.array([1,2,3,4,5])\n",
    "x = np.cumsum(arr)\n",
    "print(x)"
   ]
  },
  {
   "cell_type": "markdown",
   "metadata": {},
   "source": [
    "# NumPy Products"
   ]
  },
  {
   "cell_type": "code",
   "execution_count": 24,
   "metadata": {},
   "outputs": [
    {
     "name": "stdout",
     "output_type": "stream",
     "text": [
      "2700\n",
      "3628800\n",
      "Product over axis: [  24 1680]\n",
      "cumulative product: [   5   30  210 1680]\n"
     ]
    }
   ],
   "source": [
    "# To find the product of the elements in an array, use the prod() function.\n",
    "\n",
    "arr = np.array([1,2,3,4,5])\n",
    "arr1 = np.array([6,7,8,9,10])\n",
    "\n",
    "x = np.prod(x)\n",
    "y = np.prod([arr,arr1])\n",
    "\n",
    "print(x)\n",
    "print(y)\n",
    "\n",
    "# PRODUCT OVER AXIS\n",
    "arr1 = np.array([1, 2, 3, 4])\n",
    "arr2 = np.array([5, 6, 7, 8])\n",
    "\n",
    "newarr = np.prod([arr1, arr2], axis=1)\n",
    "\n",
    "print(F\"Product over axis: {newarr}\")\n",
    "\n",
    "# Cummulative product means taking the product partially.\n",
    "# E.g. The partial product of [1, 2, 3, 4] is [1, 1*2, 1*2*3, 1*2*3*4] = [1, 2, 6, 24]\n",
    "# Perfom partial sum with the cumprod() function.\n",
    "\n",
    "arr = np.array([5,6,7,8])\n",
    "arr1 = np.cumprod(arr)\n",
    "print(f\"cumulative product: {arr1}\")\n",
    "\n",
    "\n",
    "\n"
   ]
  },
  {
   "cell_type": "markdown",
   "metadata": {},
   "source": [
    "# NumPy Differences"
   ]
  },
  {
   "cell_type": "code",
   "execution_count": 26,
   "metadata": {},
   "outputs": [
    {
     "name": "stdout",
     "output_type": "stream",
     "text": [
      "[  5  10 -20]\n",
      "[  5 -30]\n"
     ]
    }
   ],
   "source": [
    "# A discrete difference means subtracting two successive elements.\n",
    "\n",
    "# E.g. for [1, 2, 3, 4], the discrete difference would be [2-1, 3-2, 4-3] = [1, 1, 1]\n",
    "\n",
    "# To find the discrete difference, use the diff() function.\n",
    "\n",
    "arr = np.array([10, 15, 25, 5])\n",
    "newarr = np.diff(arr)\n",
    "print(newarr)\n",
    "\n",
    "\n",
    "arr = np.array([10,15,25,5])\n",
    "newarr = np.diff(arr, n=2)\n",
    "print(newarr)\n",
    "\n",
    "\n",
    "\n",
    "\n"
   ]
  },
  {
   "cell_type": "markdown",
   "metadata": {},
   "source": [
    "# Numpy LCM"
   ]
  },
  {
   "cell_type": "code",
   "execution_count": 43,
   "metadata": {},
   "outputs": [
    {
     "name": "stdout",
     "output_type": "stream",
     "text": [
      "12\n",
      "6\n",
      "\n",
      "Find the LCM of all of an array where the array contains all integers from 1 to 10:\n",
      "2520\n",
      "\n",
      "Converting radian to degrees: [ 90. 180. 270. 360.]\n",
      "\n",
      "Find the angle for all of the sine values in the array:  [ 1.57079633 -1.57079633  0.10016742]\n"
     ]
    }
   ],
   "source": [
    "# The Lowest Common Multiple is the least number that is common multiple of both of the numbers.\n",
    "\n",
    "num1 = 4\n",
    "num2 = 6\n",
    "result = np.lcm(num1,num2)\n",
    "print(result)\n",
    "\n",
    "# Returns: 12 because that is the lowest common multiple of both numbers (4*3=12 and 6*2=12).\n",
    "\n",
    "# FINDING LCM IN ARRAY:\n",
    "# to find the lcm in an array, we use the reduce() method \n",
    "\n",
    "arr1 = np.array([1,2,3])\n",
    "result = np.lcm.reduce(arr1)\n",
    "print(result)\n",
    "\n",
    "print(\"\")\n",
    "print(f\"Find the LCM of all of an array where the array contains all integers from 1 to 10:\")\n",
    "\n",
    "arr = np.arange(1,11)\n",
    "arr1 = np.lcm.reduce(arr)\n",
    "print(arr1)\n",
    "\n",
    "# Convert Degrees Into Radians\n",
    "# By default all of the trigonometric functions take radians as parameters but we can convert radians to degrees and vice versa as well in NumP.\n",
    "# Note: radians values are pi/180 * degree_values.\n",
    "print(\"\")\n",
    "arr = np.array([np.pi/2, np.pi, 1.5*np.pi, 2*np.pi])\n",
    "\n",
    "x = np.rad2deg(arr)\n",
    "\n",
    "print(f\"Converting radian to degrees:\", x)\n",
    "print(\"\")\n",
    "\n",
    "# Finding Angles\n",
    "# Finding angles from values of sine, cos, tan. E.g. sin, cos and tan inverse (arcsin, arccos, arctan).\n",
    "\n",
    "# NumPy provides ufuncs arcsin(), arccos() and arctan() that produce radian values for corresponding sin, cos and tan values given.\n",
    "\n",
    "arr = np.array([1,-1, 0.1])\n",
    "x = np.arcsin(arr)\n",
    "print(\"Find the angle for all of the sine values in the array: \",x)\n",
    "\n",
    "\n",
    "\n",
    "\n",
    "\n",
    "\n",
    "\n",
    "\n",
    "\n",
    "\n",
    "\n"
   ]
  },
  {
   "cell_type": "code",
   "execution_count": null,
   "metadata": {},
   "outputs": [],
   "source": []
  },
  {
   "cell_type": "markdown",
   "metadata": {},
   "source": [
    "# Trigonometric Functions"
   ]
  },
  {
   "cell_type": "code",
   "execution_count": 45,
   "metadata": {},
   "outputs": [
    {
     "name": "stdout",
     "output_type": "stream",
     "text": [
      "1.0\n",
      "[1.         0.8660254  0.8660254  0.70710678 0.58778525]\n",
      "5.0\n"
     ]
    }
   ],
   "source": [
    "# Numpy provides funtion in sin() cos() and tan() that takes values in radians and produe the cresspnding sin, cos, and tan values\n",
    "\n",
    "# converting degree to radian\n",
    "# radian_value = PI/180 * degree_value\n",
    "\n",
    "x = np.sin(np.pi/2)\n",
    "print(x)\n",
    "\n",
    "# finding values for all values in an array\n",
    "arr = np.array([np.pi/2, np.pi/3, np.pi/3, np.pi/4, np.pi/5])\n",
    "result = np.sin(arr)\n",
    "print(result)\n",
    "\n",
    "# Hypotenues\n",
    "# Finding hypotenues using pythagoras theorem in NumPy.\n",
    "\n",
    "# NumPy provides the hypot() function that takes the base and perpendicular values and produces hypotenues based on pythagoras theorem.\n",
    "base = 3\n",
    "perp = 4\n",
    "side= np.hypot(base, perp)\n",
    "print(side)\n"
   ]
  },
  {
   "cell_type": "markdown",
   "metadata": {},
   "source": [
    "# NumPy GCD Greatest Common Denominator"
   ]
  },
  {
   "cell_type": "code",
   "execution_count": 7,
   "metadata": {},
   "outputs": [
    {
     "name": "stdout",
     "output_type": "stream",
     "text": [
      "3\n",
      "Returns: 3 because that is the highest number both numbers can be divided by (6/3=2 and 9*3=3).\n",
      "3\n",
      "4\n"
     ]
    }
   ],
   "source": [
    "# The GCD (gREATEST COMMON DENOMINATOR) also known as HCF(Highest common factor) is  the biggest number that is common to both numbers.\n",
    "\n",
    "import numpy as np\n",
    "\n",
    "x = 6\n",
    "y = 9\n",
    "z = np.gcd(x,y)\n",
    "print(z)\n",
    "print(\"Returns: 3 because that is the highest number both numbers can be divided by (6/3=2 and 9*3=3).\")\n",
    "\n",
    "# FINDING GCD IN ARRAYS\n",
    "# to find the hcf of all arrays, you can use the reduce method\n",
    "\n",
    "x = np.array([6,9,18])\n",
    "y = np.gcd.reduce(x)\n",
    "print(y)\n",
    "\n",
    "arr = np.array([20, 8, 32, 36, 16])\n",
    "\n",
    "x = np.gcd.reduce(arr)\n",
    "\n",
    "print(x)\n",
    "\n",
    "\n",
    "\n",
    "\n",
    "\n",
    "\n",
    "\n",
    "\n"
   ]
  },
  {
   "cell_type": "markdown",
   "metadata": {},
   "source": [
    "# HYPERBOLIC FUNCTION"
   ]
  },
  {
   "cell_type": "code",
   "execution_count": 16,
   "metadata": {},
   "outputs": [
    {
     "name": "stdout",
     "output_type": "stream",
     "text": [
      "2.3012989023072947\n",
      "Finding the cosh of all values of an array [2.50917848 1.60028686 1.32460909 1.20397209]\n",
      "ARCCOSH:  4.499686190671499\n",
      "\n",
      "Angle of each value in n array:\n",
      " [0.10033535 0.20273255 0.54930614]\n"
     ]
    }
   ],
   "source": [
    "# NumPy provides the ufuncs sinh(), cosh() and tanh() that take values in radians and produce the corresponding sinh, cosh and tanh values..\n",
    "import numpy as np\n",
    "\n",
    "x = np.sinh(np.pi/2)\n",
    "print(x)\n",
    "\n",
    "arr = np.array([np.pi/2, np.pi/3, np.pi/4, np.pi/5])\n",
    "\n",
    "x = np.cosh(arr)\n",
    "\n",
    "print(\"Finding the cosh of all values of an array\",x)\n",
    "\n",
    "# FINDING ANGLES\n",
    "# Finding angles from values of hyperbolic sine, cos, tan. E.g. sinh, cosh and tanh inverse (arcsinh, arccosh, arctanh).\n",
    "\n",
    "# Numpy provides ufuncs arcsinh(), arccosh() and arctanh() that produce radian values for corresponding sinh, cosh and tanh values given.\n",
    "\n",
    "x =np.arccosh(45)\n",
    "print(\"ARCCOSH: \",x)\n",
    "\n",
    "print(\"\")\n",
    "arr = np.array([0.1, 0.2, 0.5])\n",
    "\n",
    "x = np.arctanh(arr)\n",
    "print(f\"Angle of each value in n array:\\n {x}\")\n",
    "\n",
    "\n",
    "\n"
   ]
  },
  {
   "cell_type": "markdown",
   "metadata": {},
   "source": [
    "# NumPy Set Operations"
   ]
  },
  {
   "cell_type": "code",
   "execution_count": null,
   "metadata": {},
   "outputs": [],
   "source": [
    "# A set is the collection of unique elements.\n",
    "# Sets are used for operation involving frequent intersection, union and difference operation\n",
    "# Set array should only be 1-d array\n",
    "\n",
    "# To find the union of two arrays, use the union1d()\n",
    "# To find the vales that are present in the both arrays, use the intersect1d() method\n",
    "# To only find  the values that are not present in both set we use the setxor1d().\n",
    "\n",
    "\n",
    "# union1d(), interset1d(), unique(), setdiff1d()\n"
   ]
  },
  {
   "cell_type": "code",
   "execution_count": 23,
   "metadata": {},
   "outputs": [
    {
     "name": "stdout",
     "output_type": "stream",
     "text": [
      "[1 2 3 4 5 6 7]\n",
      "\n",
      "Finding the union of 2 arrays:\n",
      "[1 2 3 4 5 6]\n",
      "[3 4]\n"
     ]
    }
   ],
   "source": [
    "import numpy as np\n",
    "\n",
    "arr = np.array([1, 1, 1, 2, 3, 4, 5, 5, 6, 7])\n",
    "result = np.unique(arr)\n",
    "print(result)\n",
    "print(\"\")\n",
    "print(\"Finding the union of 2 arrays:\")\n",
    "arr1 = np.array([1, 2, 3, 4])\n",
    "arr2 = np.array([3, 4, 5, 6])\n",
    "result = np.union1d(arr1,arr2)\n",
    "print(result)\n",
    "\n",
    "result1 = np.intersect1d(arr1, arr2, assume_unique=True)\n",
    "print(result1)\n",
    "\n",
    "# Note: the intersect1d() method takes an optional argument assume_unique, which if set to True can speed up computation. \n",
    "# It should always be set to True when dealing with sets.\n",
    "\n",
    "\n"
   ]
  },
  {
   "cell_type": "code",
   "execution_count": 25,
   "metadata": {},
   "outputs": [
    {
     "name": "stdout",
     "output_type": "stream",
     "text": [
      "[1 2]\n",
      "[1 2 5 6]\n"
     ]
    }
   ],
   "source": [
    "# FINDING DIFFERENCE\n",
    "import numpy as np\n",
    "\n",
    "# To find only arrays that are in the first set but are not present in the second, we use the setdiff1d() method.\n",
    "set1 = np.array([1, 2, 3, 4])\n",
    "set2 = np.array([3, 4, 5, 6])\n",
    "\n",
    "result = np.setdiff1d(set1, set2, assume_unique=True)\n",
    "result1 = np.setxor1d(set1, set2, assume_unique=True)\n",
    "\n",
    "print(result)\n",
    "print(result1)\n"
   ]
  },
  {
   "cell_type": "code",
   "execution_count": null,
   "metadata": {},
   "outputs": [],
   "source": []
  },
  {
   "cell_type": "code",
   "execution_count": null,
   "metadata": {},
   "outputs": [],
   "source": []
  },
  {
   "cell_type": "code",
   "execution_count": null,
   "metadata": {},
   "outputs": [],
   "source": []
  }
 ],
 "metadata": {
  "kernelspec": {
   "display_name": "Python 3",
   "language": "python",
   "name": "python3"
  },
  "language_info": {
   "codemirror_mode": {
    "name": "ipython",
    "version": 3
   },
   "file_extension": ".py",
   "mimetype": "text/x-python",
   "name": "python",
   "nbconvert_exporter": "python",
   "pygments_lexer": "ipython3",
   "version": "3.8.3"
  }
 },
 "nbformat": 4,
 "nbformat_minor": 4
}
