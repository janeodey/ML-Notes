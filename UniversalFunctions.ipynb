{
 "cells": [
  {
   "cell_type": "code",
   "execution_count": 6,
   "metadata": {},
   "outputs": [],
   "source": [
    "# ufuncs stands for universal functions and they are numpy functions that operates on the ndarray object\n",
    "\n",
    "# Why use ufuncs?\n",
    "# ufuncs are used to implement vectorization in NumPy which is way faster than iterating over elements.\n",
    "# They also provide broadcasting and additional methods like reduce, accumulate etc. that are very helpful for computation.\n",
    "# ufuncs also take additional arguments, like:\n",
    "# where boolean array or condition defining where the operations should take place.\n",
    "# dtype defining the return type of elements.\n",
    "# out output array where the return value should be copied.\n",
    "\n",
    "\n",
    "\n",
    "\n",
    "\n",
    "\n",
    "\n",
    "\n"
   ]
  },
  {
   "cell_type": "code",
   "execution_count": 10,
   "metadata": {},
   "outputs": [
    {
     "name": "stdout",
     "output_type": "stream",
     "text": [
      "Without the numpy ufunc\n",
      "[6, 8, 10, 12]\n",
      "\n",
      "with the numpy ufunc\n",
      "[ 6  8 10 12]\n"
     ]
    }
   ],
   "source": [
    "import numpy as np\n",
    "# Add the elements of 2 arrays\n",
    "\n",
    "print(\"Without the numpy ufunc\")\n",
    "x = [1,2,3,4]\n",
    "y = [5,6,7,8]\n",
    "z = []\n",
    "\n",
    "for i,j in zip(x,y):\n",
    "    z.append(i+j)\n",
    "print(z)\n",
    "\n",
    "print(\"\")\n",
    "\n",
    "print(\"with the numpy ufunc\")\n",
    "x = [1,2,3,4]\n",
    "y = [5,6,7,8]\n",
    "z = np.add(x,y)\n",
    "print(z)"
   ]
  },
  {
   "cell_type": "markdown",
   "metadata": {},
   "source": [
    "# Create your own ufunc"
   ]
  },
  {
   "cell_type": "code",
   "execution_count": 2,
   "metadata": {},
   "outputs": [],
   "source": [
    "import numpy as np\n",
    "# To create you own ufunc, you have to define a function, like you do with normal functions in Python, then you add it to your NumPy ufunc library with the frompyfunc() method.\n",
    "# The frompyfunc() method takes the following arguments:\n",
    "# function - the name of the function.\n",
    "# inputs - the number of input arguments (arrays).\n",
    "# outputs - the number of output arrays."
   ]
  },
  {
   "cell_type": "code",
   "execution_count": 12,
   "metadata": {},
   "outputs": [
    {
     "name": "stdout",
     "output_type": "stream",
     "text": [
      "<class 'numpy.ufunc'>\n"
     ]
    }
   ],
   "source": [
    "def myadd(x,y):\n",
    "    return x + y\n",
    "\n",
    "myadd = np.frompyfunc(myadd, 2, 1)\n",
    "    \n",
    "x = myadd([1,2,3,4], [5,6,7,8])\n",
    "print(type(np.add))\n"
   ]
  },
  {
   "cell_type": "markdown",
   "metadata": {},
   "source": [
    "# SIMPLE ARITHMETIC"
   ]
  },
  {
   "cell_type": "code",
   "execution_count": null,
   "metadata": {},
   "outputs": [],
   "source": [
    "# You can use arithmetic operation directly on numpy arrays. +-/*\n",
    "# Arithmetic Conditionally: means that we can define conditions where the arithmetic operation should happen.\n",
    "# All of the discussed arithmetic functions take a where parameter in which we can specify that condition.\n",
    "\n",
    "\n",
    "\n"
   ]
  },
  {
   "cell_type": "code",
   "execution_count": 19,
   "metadata": {},
   "outputs": [
    {
     "name": "stdout",
     "output_type": "stream",
     "text": [
      "[30 32 34 36 38 40]\n",
      "[-10 -10 -10 -10 -10 -10]\n",
      "[0.5        0.52380952 0.54545455 0.56521739 0.58333333 0.6       ]\n",
      "[200 231 264 299 336 375]\n",
      "[10 11 12 13 14 15]\n",
      "(array([0, 0, 0, 0, 0, 0], dtype=int32), array([10, 11, 12, 13, 14, 15], dtype=int32))\n"
     ]
    }
   ],
   "source": [
    "arr1 = np.array([10, 11, 12, 13, 14, 15])\n",
    "arr2 = np.array([20, 21, 22, 23, 24, 25])\n",
    "\n",
    "newarr1 = np.add(arr1,arr2)\n",
    "newarr2 = np.subtract(arr1,arr2)\n",
    "newarr3 = np.divide(arr1,arr2)\n",
    "newarr4 = np.multiply(arr1,arr2)\n",
    "newarr5 = np.mod(arr1,arr2)\n",
    "newarr6 = np.divmod(arr1,arr2)\n",
    "\n",
    "\n",
    "print(newarr1)\n",
    "print(newarr2)\n",
    "print(newarr3)\n",
    "print(newarr4)\n",
    "print(newarr5)\n",
    "print(newarr6)\n",
    "\n",
    "# others include: absolute, power, remainder"
   ]
  },
  {
   "cell_type": "markdown",
   "metadata": {},
   "source": [
    "# ROUNDING DECIMAL"
   ]
  },
  {
   "cell_type": "code",
   "execution_count": 37,
   "metadata": {},
   "outputs": [
    {
     "name": "stdout",
     "output_type": "stream",
     "text": [
      "[-2.  3.]\n",
      "Round: 3.56\n",
      "[-3.  3.]\n",
      "Floor: [-4.  3.]\n",
      "Ceil: [-3.  4.]\n"
     ]
    }
   ],
   "source": [
    "# There are primarily 5 ways of decimals in numpy\n",
    "# truncating, rounding, fix, floor, ceil\n",
    "\n",
    "x = np.trunc([-2.6782, 3.999])\n",
    "print(x)\n",
    "\n",
    "x = np.round(3.556,2)\n",
    "print(\"Round:\", x)\n",
    "\n",
    "arr = np.fix([-3.1666, 3.6667])\n",
    "print(arr)\n",
    "arr = np.floor([-3.1666, 3.6667])\n",
    "print(\"Floor:\", arr)\n",
    "arr = np.ceil([-3.1666, 3.6667])\n",
    "print(\"Ceil:\", arr)"
   ]
  },
  {
   "cell_type": "markdown",
   "metadata": {},
   "source": [
    "# NumPy Logs"
   ]
  },
  {
   "cell_type": "code",
   "execution_count": null,
   "metadata": {},
   "outputs": [],
   "source": []
  },
  {
   "cell_type": "code",
   "execution_count": null,
   "metadata": {},
   "outputs": [],
   "source": []
  },
  {
   "cell_type": "code",
   "execution_count": null,
   "metadata": {},
   "outputs": [],
   "source": []
  },
  {
   "cell_type": "code",
   "execution_count": null,
   "metadata": {},
   "outputs": [],
   "source": []
  }
 ],
 "metadata": {
  "kernelspec": {
   "display_name": "Python 3",
   "language": "python",
   "name": "python3"
  },
  "language_info": {
   "codemirror_mode": {
    "name": "ipython",
    "version": 3
   },
   "file_extension": ".py",
   "mimetype": "text/x-python",
   "name": "python",
   "nbconvert_exporter": "python",
   "pygments_lexer": "ipython3",
   "version": "3.8.3"
  }
 },
 "nbformat": 4,
 "nbformat_minor": 4
}
